{
  "nbformat": 4,
  "nbformat_minor": 0,
  "metadata": {
    "kernelspec": {
      "display_name": "Python 3",
      "language": "python",
      "name": "python3"
    },
    "language_info": {
      "codemirror_mode": {
        "name": "ipython",
        "version": 3
      },
      "file_extension": ".py",
      "mimetype": "text/x-python",
      "name": "python",
      "nbconvert_exporter": "python",
      "pygments_lexer": "ipython3",
      "version": "3.7.6"
    },
    "colab": {
      "name": "Konut_analizi .ipynb",
      "provenance": [],
      "include_colab_link": true
    }
  },
  "cells": [
    {
      "cell_type": "markdown",
      "metadata": {
        "id": "view-in-github",
        "colab_type": "text"
      },
      "source": [
        "<a href=\"https://colab.research.google.com/github/BatuhanBulcum/Konut_Analizi/blob/main/Konut_analizi_.ipynb\" target=\"_parent\"><img src=\"https://colab.research.google.com/assets/colab-badge.svg\" alt=\"Open In Colab\"/></a>"
      ]
    },
    {
      "cell_type": "markdown",
      "metadata": {
        "id": "egX2pez5yb8a"
      },
      "source": [
        "ABD de online emlak şirketlerinin konut özellikleri ve satışına dair veriler bulunmaktadır.\n",
        "\n",
        "Amaç verilerin detaylı analizi ve fiyat tahmini yapmaktır.\n",
        "\n",
        "İbrahim Batuhan Bulçum"
      ]
    },
    {
      "cell_type": "markdown",
      "metadata": {
        "id": "ZV3g0tInyb8e"
      },
      "source": [
        "Gerekli olan kütüphaneleri yükleyelim."
      ]
    },
    {
      "cell_type": "code",
      "metadata": {
        "id": "BSLCqzb7yb8f"
      },
      "source": [
        "import pandas as pd\n",
        "import matplotlib.pyplot as plt\n",
        "import numpy as np\n",
        "import seaborn as sns"
      ],
      "execution_count": null,
      "outputs": []
    },
    {
      "cell_type": "markdown",
      "metadata": {
        "id": "Dq037qMmyb8g"
      },
      "source": [
        "Veriyi okutalım."
      ]
    },
    {
      "cell_type": "code",
      "metadata": {
        "id": "C3zzkHxtyb8g",
        "outputId": "6bad0c94-5f5f-4d94-896a-069f79fd1b39"
      },
      "source": [
        "data = pd.read_csv('file:///C:/Users/Batuhan/Desktop/kc_house_data.csv')\n",
        "data"
      ],
      "execution_count": null,
      "outputs": [
        {
          "output_type": "execute_result",
          "data": {
            "text/html": [
              "<div>\n",
              "<style scoped>\n",
              "    .dataframe tbody tr th:only-of-type {\n",
              "        vertical-align: middle;\n",
              "    }\n",
              "\n",
              "    .dataframe tbody tr th {\n",
              "        vertical-align: top;\n",
              "    }\n",
              "\n",
              "    .dataframe thead th {\n",
              "        text-align: right;\n",
              "    }\n",
              "</style>\n",
              "<table border=\"1\" class=\"dataframe\">\n",
              "  <thead>\n",
              "    <tr style=\"text-align: right;\">\n",
              "      <th></th>\n",
              "      <th>id</th>\n",
              "      <th>date</th>\n",
              "      <th>price</th>\n",
              "      <th>bedrooms</th>\n",
              "      <th>bathrooms</th>\n",
              "      <th>sqft_living</th>\n",
              "      <th>sqft_lot</th>\n",
              "      <th>floors</th>\n",
              "      <th>waterfront</th>\n",
              "      <th>view</th>\n",
              "      <th>...</th>\n",
              "      <th>grade</th>\n",
              "      <th>sqft_above</th>\n",
              "      <th>sqft_basement</th>\n",
              "      <th>yr_built</th>\n",
              "      <th>yr_renovated</th>\n",
              "      <th>zipcode</th>\n",
              "      <th>lat</th>\n",
              "      <th>long</th>\n",
              "      <th>sqft_living15</th>\n",
              "      <th>sqft_lot15</th>\n",
              "    </tr>\n",
              "  </thead>\n",
              "  <tbody>\n",
              "    <tr>\n",
              "      <th>0</th>\n",
              "      <td>7129300520</td>\n",
              "      <td>10/13/2014</td>\n",
              "      <td>221900.0</td>\n",
              "      <td>3</td>\n",
              "      <td>1.00</td>\n",
              "      <td>1180</td>\n",
              "      <td>5650</td>\n",
              "      <td>1.0</td>\n",
              "      <td>0</td>\n",
              "      <td>0</td>\n",
              "      <td>...</td>\n",
              "      <td>7</td>\n",
              "      <td>1180</td>\n",
              "      <td>0</td>\n",
              "      <td>1955</td>\n",
              "      <td>0</td>\n",
              "      <td>98178</td>\n",
              "      <td>47.5112</td>\n",
              "      <td>-122.257</td>\n",
              "      <td>1340</td>\n",
              "      <td>5650</td>\n",
              "    </tr>\n",
              "    <tr>\n",
              "      <th>1</th>\n",
              "      <td>6414100192</td>\n",
              "      <td>12/9/2014</td>\n",
              "      <td>538000.0</td>\n",
              "      <td>3</td>\n",
              "      <td>2.25</td>\n",
              "      <td>2570</td>\n",
              "      <td>7242</td>\n",
              "      <td>2.0</td>\n",
              "      <td>0</td>\n",
              "      <td>0</td>\n",
              "      <td>...</td>\n",
              "      <td>7</td>\n",
              "      <td>2170</td>\n",
              "      <td>400</td>\n",
              "      <td>1951</td>\n",
              "      <td>1991</td>\n",
              "      <td>98125</td>\n",
              "      <td>47.7210</td>\n",
              "      <td>-122.319</td>\n",
              "      <td>1690</td>\n",
              "      <td>7639</td>\n",
              "    </tr>\n",
              "    <tr>\n",
              "      <th>2</th>\n",
              "      <td>5631500400</td>\n",
              "      <td>2/25/2015</td>\n",
              "      <td>180000.0</td>\n",
              "      <td>2</td>\n",
              "      <td>1.00</td>\n",
              "      <td>770</td>\n",
              "      <td>10000</td>\n",
              "      <td>1.0</td>\n",
              "      <td>0</td>\n",
              "      <td>0</td>\n",
              "      <td>...</td>\n",
              "      <td>6</td>\n",
              "      <td>770</td>\n",
              "      <td>0</td>\n",
              "      <td>1933</td>\n",
              "      <td>0</td>\n",
              "      <td>98028</td>\n",
              "      <td>47.7379</td>\n",
              "      <td>-122.233</td>\n",
              "      <td>2720</td>\n",
              "      <td>8062</td>\n",
              "    </tr>\n",
              "    <tr>\n",
              "      <th>3</th>\n",
              "      <td>2487200875</td>\n",
              "      <td>12/9/2014</td>\n",
              "      <td>604000.0</td>\n",
              "      <td>4</td>\n",
              "      <td>3.00</td>\n",
              "      <td>1960</td>\n",
              "      <td>5000</td>\n",
              "      <td>1.0</td>\n",
              "      <td>0</td>\n",
              "      <td>0</td>\n",
              "      <td>...</td>\n",
              "      <td>7</td>\n",
              "      <td>1050</td>\n",
              "      <td>910</td>\n",
              "      <td>1965</td>\n",
              "      <td>0</td>\n",
              "      <td>98136</td>\n",
              "      <td>47.5208</td>\n",
              "      <td>-122.393</td>\n",
              "      <td>1360</td>\n",
              "      <td>5000</td>\n",
              "    </tr>\n",
              "    <tr>\n",
              "      <th>4</th>\n",
              "      <td>1954400510</td>\n",
              "      <td>2/18/2015</td>\n",
              "      <td>510000.0</td>\n",
              "      <td>3</td>\n",
              "      <td>2.00</td>\n",
              "      <td>1680</td>\n",
              "      <td>8080</td>\n",
              "      <td>1.0</td>\n",
              "      <td>0</td>\n",
              "      <td>0</td>\n",
              "      <td>...</td>\n",
              "      <td>8</td>\n",
              "      <td>1680</td>\n",
              "      <td>0</td>\n",
              "      <td>1987</td>\n",
              "      <td>0</td>\n",
              "      <td>98074</td>\n",
              "      <td>47.6168</td>\n",
              "      <td>-122.045</td>\n",
              "      <td>1800</td>\n",
              "      <td>7503</td>\n",
              "    </tr>\n",
              "    <tr>\n",
              "      <th>...</th>\n",
              "      <td>...</td>\n",
              "      <td>...</td>\n",
              "      <td>...</td>\n",
              "      <td>...</td>\n",
              "      <td>...</td>\n",
              "      <td>...</td>\n",
              "      <td>...</td>\n",
              "      <td>...</td>\n",
              "      <td>...</td>\n",
              "      <td>...</td>\n",
              "      <td>...</td>\n",
              "      <td>...</td>\n",
              "      <td>...</td>\n",
              "      <td>...</td>\n",
              "      <td>...</td>\n",
              "      <td>...</td>\n",
              "      <td>...</td>\n",
              "      <td>...</td>\n",
              "      <td>...</td>\n",
              "      <td>...</td>\n",
              "      <td>...</td>\n",
              "    </tr>\n",
              "    <tr>\n",
              "      <th>21592</th>\n",
              "      <td>263000018</td>\n",
              "      <td>5/21/2014</td>\n",
              "      <td>360000.0</td>\n",
              "      <td>3</td>\n",
              "      <td>2.50</td>\n",
              "      <td>1530</td>\n",
              "      <td>1131</td>\n",
              "      <td>3.0</td>\n",
              "      <td>0</td>\n",
              "      <td>0</td>\n",
              "      <td>...</td>\n",
              "      <td>8</td>\n",
              "      <td>1530</td>\n",
              "      <td>0</td>\n",
              "      <td>2009</td>\n",
              "      <td>0</td>\n",
              "      <td>98103</td>\n",
              "      <td>47.6993</td>\n",
              "      <td>-122.346</td>\n",
              "      <td>1530</td>\n",
              "      <td>1509</td>\n",
              "    </tr>\n",
              "    <tr>\n",
              "      <th>21593</th>\n",
              "      <td>6600060120</td>\n",
              "      <td>2/23/2015</td>\n",
              "      <td>400000.0</td>\n",
              "      <td>4</td>\n",
              "      <td>2.50</td>\n",
              "      <td>2310</td>\n",
              "      <td>5813</td>\n",
              "      <td>2.0</td>\n",
              "      <td>0</td>\n",
              "      <td>0</td>\n",
              "      <td>...</td>\n",
              "      <td>8</td>\n",
              "      <td>2310</td>\n",
              "      <td>0</td>\n",
              "      <td>2014</td>\n",
              "      <td>0</td>\n",
              "      <td>98146</td>\n",
              "      <td>47.5107</td>\n",
              "      <td>-122.362</td>\n",
              "      <td>1830</td>\n",
              "      <td>7200</td>\n",
              "    </tr>\n",
              "    <tr>\n",
              "      <th>21594</th>\n",
              "      <td>1523300141</td>\n",
              "      <td>6/23/2014</td>\n",
              "      <td>402101.0</td>\n",
              "      <td>2</td>\n",
              "      <td>0.75</td>\n",
              "      <td>1020</td>\n",
              "      <td>1350</td>\n",
              "      <td>2.0</td>\n",
              "      <td>0</td>\n",
              "      <td>0</td>\n",
              "      <td>...</td>\n",
              "      <td>7</td>\n",
              "      <td>1020</td>\n",
              "      <td>0</td>\n",
              "      <td>2009</td>\n",
              "      <td>0</td>\n",
              "      <td>98144</td>\n",
              "      <td>47.5944</td>\n",
              "      <td>-122.299</td>\n",
              "      <td>1020</td>\n",
              "      <td>2007</td>\n",
              "    </tr>\n",
              "    <tr>\n",
              "      <th>21595</th>\n",
              "      <td>291310100</td>\n",
              "      <td>1/16/2015</td>\n",
              "      <td>400000.0</td>\n",
              "      <td>3</td>\n",
              "      <td>2.50</td>\n",
              "      <td>1600</td>\n",
              "      <td>2388</td>\n",
              "      <td>2.0</td>\n",
              "      <td>0</td>\n",
              "      <td>0</td>\n",
              "      <td>...</td>\n",
              "      <td>8</td>\n",
              "      <td>1600</td>\n",
              "      <td>0</td>\n",
              "      <td>2004</td>\n",
              "      <td>0</td>\n",
              "      <td>98027</td>\n",
              "      <td>47.5345</td>\n",
              "      <td>-122.069</td>\n",
              "      <td>1410</td>\n",
              "      <td>1287</td>\n",
              "    </tr>\n",
              "    <tr>\n",
              "      <th>21596</th>\n",
              "      <td>1523300157</td>\n",
              "      <td>10/15/2014</td>\n",
              "      <td>325000.0</td>\n",
              "      <td>2</td>\n",
              "      <td>0.75</td>\n",
              "      <td>1020</td>\n",
              "      <td>1076</td>\n",
              "      <td>2.0</td>\n",
              "      <td>0</td>\n",
              "      <td>0</td>\n",
              "      <td>...</td>\n",
              "      <td>7</td>\n",
              "      <td>1020</td>\n",
              "      <td>0</td>\n",
              "      <td>2008</td>\n",
              "      <td>0</td>\n",
              "      <td>98144</td>\n",
              "      <td>47.5941</td>\n",
              "      <td>-122.299</td>\n",
              "      <td>1020</td>\n",
              "      <td>1357</td>\n",
              "    </tr>\n",
              "  </tbody>\n",
              "</table>\n",
              "<p>21597 rows × 21 columns</p>\n",
              "</div>"
            ],
            "text/plain": [
              "               id        date     price  bedrooms  bathrooms  sqft_living  \\\n",
              "0      7129300520  10/13/2014  221900.0         3       1.00         1180   \n",
              "1      6414100192   12/9/2014  538000.0         3       2.25         2570   \n",
              "2      5631500400   2/25/2015  180000.0         2       1.00          770   \n",
              "3      2487200875   12/9/2014  604000.0         4       3.00         1960   \n",
              "4      1954400510   2/18/2015  510000.0         3       2.00         1680   \n",
              "...           ...         ...       ...       ...        ...          ...   \n",
              "21592   263000018   5/21/2014  360000.0         3       2.50         1530   \n",
              "21593  6600060120   2/23/2015  400000.0         4       2.50         2310   \n",
              "21594  1523300141   6/23/2014  402101.0         2       0.75         1020   \n",
              "21595   291310100   1/16/2015  400000.0         3       2.50         1600   \n",
              "21596  1523300157  10/15/2014  325000.0         2       0.75         1020   \n",
              "\n",
              "       sqft_lot  floors  waterfront  view  ...  grade  sqft_above  \\\n",
              "0          5650     1.0           0     0  ...      7        1180   \n",
              "1          7242     2.0           0     0  ...      7        2170   \n",
              "2         10000     1.0           0     0  ...      6         770   \n",
              "3          5000     1.0           0     0  ...      7        1050   \n",
              "4          8080     1.0           0     0  ...      8        1680   \n",
              "...         ...     ...         ...   ...  ...    ...         ...   \n",
              "21592      1131     3.0           0     0  ...      8        1530   \n",
              "21593      5813     2.0           0     0  ...      8        2310   \n",
              "21594      1350     2.0           0     0  ...      7        1020   \n",
              "21595      2388     2.0           0     0  ...      8        1600   \n",
              "21596      1076     2.0           0     0  ...      7        1020   \n",
              "\n",
              "       sqft_basement  yr_built  yr_renovated  zipcode      lat     long  \\\n",
              "0                  0      1955             0    98178  47.5112 -122.257   \n",
              "1                400      1951          1991    98125  47.7210 -122.319   \n",
              "2                  0      1933             0    98028  47.7379 -122.233   \n",
              "3                910      1965             0    98136  47.5208 -122.393   \n",
              "4                  0      1987             0    98074  47.6168 -122.045   \n",
              "...              ...       ...           ...      ...      ...      ...   \n",
              "21592              0      2009             0    98103  47.6993 -122.346   \n",
              "21593              0      2014             0    98146  47.5107 -122.362   \n",
              "21594              0      2009             0    98144  47.5944 -122.299   \n",
              "21595              0      2004             0    98027  47.5345 -122.069   \n",
              "21596              0      2008             0    98144  47.5941 -122.299   \n",
              "\n",
              "       sqft_living15  sqft_lot15  \n",
              "0               1340        5650  \n",
              "1               1690        7639  \n",
              "2               2720        8062  \n",
              "3               1360        5000  \n",
              "4               1800        7503  \n",
              "...              ...         ...  \n",
              "21592           1530        1509  \n",
              "21593           1830        7200  \n",
              "21594           1020        2007  \n",
              "21595           1410        1287  \n",
              "21596           1020        1357  \n",
              "\n",
              "[21597 rows x 21 columns]"
            ]
          },
          "metadata": {
            "tags": []
          },
          "execution_count": 2
        }
      ]
    },
    {
      "cell_type": "markdown",
      "metadata": {
        "id": "vWteBS2Iyb8h"
      },
      "source": [
        "Veri boyutlarına bakalım."
      ]
    },
    {
      "cell_type": "code",
      "metadata": {
        "id": "L9ZillYJyb8h",
        "outputId": "8e6e4b38-7df2-4e18-d079-8ae368e02e29"
      },
      "source": [
        "data.shape"
      ],
      "execution_count": null,
      "outputs": [
        {
          "output_type": "execute_result",
          "data": {
            "text/plain": [
              "(21597, 21)"
            ]
          },
          "metadata": {
            "tags": []
          },
          "execution_count": 3
        }
      ]
    },
    {
      "cell_type": "markdown",
      "metadata": {
        "id": "FR6PKuAdyb8i"
      },
      "source": [
        "21597 satır 21 sütundan oluşan bir tablomuz var."
      ]
    },
    {
      "cell_type": "markdown",
      "metadata": {
        "id": "vQ30SgF2yb8i"
      },
      "source": [
        "Verimizin içerdiği kolonları inceleyelim."
      ]
    },
    {
      "cell_type": "code",
      "metadata": {
        "id": "RscJ9qbmyb8j",
        "outputId": "55b9f44a-691c-4a6e-e85f-bae0bb139e3d"
      },
      "source": [
        "data.columns"
      ],
      "execution_count": null,
      "outputs": [
        {
          "output_type": "execute_result",
          "data": {
            "text/plain": [
              "Index(['id', 'date', 'price', 'bedrooms', 'bathrooms', 'sqft_living',\n",
              "       'sqft_lot', 'floors', 'waterfront', 'view', 'condition', 'grade',\n",
              "       'sqft_above', 'sqft_basement', 'yr_built', 'yr_renovated', 'zipcode',\n",
              "       'lat', 'long', 'sqft_living15', 'sqft_lot15'],\n",
              "      dtype='object')"
            ]
          },
          "metadata": {
            "tags": []
          },
          "execution_count": 4
        }
      ]
    },
    {
      "cell_type": "markdown",
      "metadata": {
        "id": "2m6KWLlWyb8j"
      },
      "source": [
        "Verimizde bulunan sayısal değerleri inceleyelim."
      ]
    },
    {
      "cell_type": "code",
      "metadata": {
        "id": "VK6ImN8qyb8j",
        "outputId": "6a46dbde-0d79-4a83-de9a-8a6978bb6e38"
      },
      "source": [
        "data.describe()"
      ],
      "execution_count": null,
      "outputs": [
        {
          "output_type": "execute_result",
          "data": {
            "text/html": [
              "<div>\n",
              "<style scoped>\n",
              "    .dataframe tbody tr th:only-of-type {\n",
              "        vertical-align: middle;\n",
              "    }\n",
              "\n",
              "    .dataframe tbody tr th {\n",
              "        vertical-align: top;\n",
              "    }\n",
              "\n",
              "    .dataframe thead th {\n",
              "        text-align: right;\n",
              "    }\n",
              "</style>\n",
              "<table border=\"1\" class=\"dataframe\">\n",
              "  <thead>\n",
              "    <tr style=\"text-align: right;\">\n",
              "      <th></th>\n",
              "      <th>id</th>\n",
              "      <th>price</th>\n",
              "      <th>bedrooms</th>\n",
              "      <th>bathrooms</th>\n",
              "      <th>sqft_living</th>\n",
              "      <th>sqft_lot</th>\n",
              "      <th>floors</th>\n",
              "      <th>waterfront</th>\n",
              "      <th>view</th>\n",
              "      <th>condition</th>\n",
              "      <th>grade</th>\n",
              "      <th>sqft_above</th>\n",
              "      <th>sqft_basement</th>\n",
              "      <th>yr_built</th>\n",
              "      <th>yr_renovated</th>\n",
              "      <th>zipcode</th>\n",
              "      <th>lat</th>\n",
              "      <th>long</th>\n",
              "      <th>sqft_living15</th>\n",
              "      <th>sqft_lot15</th>\n",
              "    </tr>\n",
              "  </thead>\n",
              "  <tbody>\n",
              "    <tr>\n",
              "      <th>count</th>\n",
              "      <td>2.159700e+04</td>\n",
              "      <td>2.159700e+04</td>\n",
              "      <td>21597.000000</td>\n",
              "      <td>21597.000000</td>\n",
              "      <td>21597.000000</td>\n",
              "      <td>2.159700e+04</td>\n",
              "      <td>21597.000000</td>\n",
              "      <td>21597.000000</td>\n",
              "      <td>21597.000000</td>\n",
              "      <td>21597.000000</td>\n",
              "      <td>21597.000000</td>\n",
              "      <td>21597.000000</td>\n",
              "      <td>21597.000000</td>\n",
              "      <td>21597.000000</td>\n",
              "      <td>21597.000000</td>\n",
              "      <td>21597.000000</td>\n",
              "      <td>21597.000000</td>\n",
              "      <td>21597.000000</td>\n",
              "      <td>21597.000000</td>\n",
              "      <td>21597.000000</td>\n",
              "    </tr>\n",
              "    <tr>\n",
              "      <th>mean</th>\n",
              "      <td>4.580474e+09</td>\n",
              "      <td>5.402966e+05</td>\n",
              "      <td>3.373200</td>\n",
              "      <td>2.115826</td>\n",
              "      <td>2080.321850</td>\n",
              "      <td>1.509941e+04</td>\n",
              "      <td>1.494096</td>\n",
              "      <td>0.007547</td>\n",
              "      <td>0.234292</td>\n",
              "      <td>3.409825</td>\n",
              "      <td>7.657915</td>\n",
              "      <td>1788.596842</td>\n",
              "      <td>291.725008</td>\n",
              "      <td>1970.999676</td>\n",
              "      <td>84.464787</td>\n",
              "      <td>98077.951845</td>\n",
              "      <td>47.560093</td>\n",
              "      <td>-122.213982</td>\n",
              "      <td>1986.620318</td>\n",
              "      <td>12758.283512</td>\n",
              "    </tr>\n",
              "    <tr>\n",
              "      <th>std</th>\n",
              "      <td>2.876736e+09</td>\n",
              "      <td>3.673681e+05</td>\n",
              "      <td>0.926299</td>\n",
              "      <td>0.768984</td>\n",
              "      <td>918.106125</td>\n",
              "      <td>4.141264e+04</td>\n",
              "      <td>0.539683</td>\n",
              "      <td>0.086549</td>\n",
              "      <td>0.766390</td>\n",
              "      <td>0.650546</td>\n",
              "      <td>1.173200</td>\n",
              "      <td>827.759761</td>\n",
              "      <td>442.667800</td>\n",
              "      <td>29.375234</td>\n",
              "      <td>401.821438</td>\n",
              "      <td>53.513072</td>\n",
              "      <td>0.138552</td>\n",
              "      <td>0.140724</td>\n",
              "      <td>685.230472</td>\n",
              "      <td>27274.441950</td>\n",
              "    </tr>\n",
              "    <tr>\n",
              "      <th>min</th>\n",
              "      <td>1.000102e+06</td>\n",
              "      <td>7.800000e+04</td>\n",
              "      <td>1.000000</td>\n",
              "      <td>0.500000</td>\n",
              "      <td>370.000000</td>\n",
              "      <td>5.200000e+02</td>\n",
              "      <td>1.000000</td>\n",
              "      <td>0.000000</td>\n",
              "      <td>0.000000</td>\n",
              "      <td>1.000000</td>\n",
              "      <td>3.000000</td>\n",
              "      <td>370.000000</td>\n",
              "      <td>0.000000</td>\n",
              "      <td>1900.000000</td>\n",
              "      <td>0.000000</td>\n",
              "      <td>98001.000000</td>\n",
              "      <td>47.155900</td>\n",
              "      <td>-122.519000</td>\n",
              "      <td>399.000000</td>\n",
              "      <td>651.000000</td>\n",
              "    </tr>\n",
              "    <tr>\n",
              "      <th>25%</th>\n",
              "      <td>2.123049e+09</td>\n",
              "      <td>3.220000e+05</td>\n",
              "      <td>3.000000</td>\n",
              "      <td>1.750000</td>\n",
              "      <td>1430.000000</td>\n",
              "      <td>5.040000e+03</td>\n",
              "      <td>1.000000</td>\n",
              "      <td>0.000000</td>\n",
              "      <td>0.000000</td>\n",
              "      <td>3.000000</td>\n",
              "      <td>7.000000</td>\n",
              "      <td>1190.000000</td>\n",
              "      <td>0.000000</td>\n",
              "      <td>1951.000000</td>\n",
              "      <td>0.000000</td>\n",
              "      <td>98033.000000</td>\n",
              "      <td>47.471100</td>\n",
              "      <td>-122.328000</td>\n",
              "      <td>1490.000000</td>\n",
              "      <td>5100.000000</td>\n",
              "    </tr>\n",
              "    <tr>\n",
              "      <th>50%</th>\n",
              "      <td>3.904930e+09</td>\n",
              "      <td>4.500000e+05</td>\n",
              "      <td>3.000000</td>\n",
              "      <td>2.250000</td>\n",
              "      <td>1910.000000</td>\n",
              "      <td>7.618000e+03</td>\n",
              "      <td>1.500000</td>\n",
              "      <td>0.000000</td>\n",
              "      <td>0.000000</td>\n",
              "      <td>3.000000</td>\n",
              "      <td>7.000000</td>\n",
              "      <td>1560.000000</td>\n",
              "      <td>0.000000</td>\n",
              "      <td>1975.000000</td>\n",
              "      <td>0.000000</td>\n",
              "      <td>98065.000000</td>\n",
              "      <td>47.571800</td>\n",
              "      <td>-122.231000</td>\n",
              "      <td>1840.000000</td>\n",
              "      <td>7620.000000</td>\n",
              "    </tr>\n",
              "    <tr>\n",
              "      <th>75%</th>\n",
              "      <td>7.308900e+09</td>\n",
              "      <td>6.450000e+05</td>\n",
              "      <td>4.000000</td>\n",
              "      <td>2.500000</td>\n",
              "      <td>2550.000000</td>\n",
              "      <td>1.068500e+04</td>\n",
              "      <td>2.000000</td>\n",
              "      <td>0.000000</td>\n",
              "      <td>0.000000</td>\n",
              "      <td>4.000000</td>\n",
              "      <td>8.000000</td>\n",
              "      <td>2210.000000</td>\n",
              "      <td>560.000000</td>\n",
              "      <td>1997.000000</td>\n",
              "      <td>0.000000</td>\n",
              "      <td>98118.000000</td>\n",
              "      <td>47.678000</td>\n",
              "      <td>-122.125000</td>\n",
              "      <td>2360.000000</td>\n",
              "      <td>10083.000000</td>\n",
              "    </tr>\n",
              "    <tr>\n",
              "      <th>max</th>\n",
              "      <td>9.900000e+09</td>\n",
              "      <td>7.700000e+06</td>\n",
              "      <td>33.000000</td>\n",
              "      <td>8.000000</td>\n",
              "      <td>13540.000000</td>\n",
              "      <td>1.651359e+06</td>\n",
              "      <td>3.500000</td>\n",
              "      <td>1.000000</td>\n",
              "      <td>4.000000</td>\n",
              "      <td>5.000000</td>\n",
              "      <td>13.000000</td>\n",
              "      <td>9410.000000</td>\n",
              "      <td>4820.000000</td>\n",
              "      <td>2015.000000</td>\n",
              "      <td>2015.000000</td>\n",
              "      <td>98199.000000</td>\n",
              "      <td>47.777600</td>\n",
              "      <td>-121.315000</td>\n",
              "      <td>6210.000000</td>\n",
              "      <td>871200.000000</td>\n",
              "    </tr>\n",
              "  </tbody>\n",
              "</table>\n",
              "</div>"
            ],
            "text/plain": [
              "                 id         price      bedrooms     bathrooms   sqft_living  \\\n",
              "count  2.159700e+04  2.159700e+04  21597.000000  21597.000000  21597.000000   \n",
              "mean   4.580474e+09  5.402966e+05      3.373200      2.115826   2080.321850   \n",
              "std    2.876736e+09  3.673681e+05      0.926299      0.768984    918.106125   \n",
              "min    1.000102e+06  7.800000e+04      1.000000      0.500000    370.000000   \n",
              "25%    2.123049e+09  3.220000e+05      3.000000      1.750000   1430.000000   \n",
              "50%    3.904930e+09  4.500000e+05      3.000000      2.250000   1910.000000   \n",
              "75%    7.308900e+09  6.450000e+05      4.000000      2.500000   2550.000000   \n",
              "max    9.900000e+09  7.700000e+06     33.000000      8.000000  13540.000000   \n",
              "\n",
              "           sqft_lot        floors    waterfront          view     condition  \\\n",
              "count  2.159700e+04  21597.000000  21597.000000  21597.000000  21597.000000   \n",
              "mean   1.509941e+04      1.494096      0.007547      0.234292      3.409825   \n",
              "std    4.141264e+04      0.539683      0.086549      0.766390      0.650546   \n",
              "min    5.200000e+02      1.000000      0.000000      0.000000      1.000000   \n",
              "25%    5.040000e+03      1.000000      0.000000      0.000000      3.000000   \n",
              "50%    7.618000e+03      1.500000      0.000000      0.000000      3.000000   \n",
              "75%    1.068500e+04      2.000000      0.000000      0.000000      4.000000   \n",
              "max    1.651359e+06      3.500000      1.000000      4.000000      5.000000   \n",
              "\n",
              "              grade    sqft_above  sqft_basement      yr_built  yr_renovated  \\\n",
              "count  21597.000000  21597.000000   21597.000000  21597.000000  21597.000000   \n",
              "mean       7.657915   1788.596842     291.725008   1970.999676     84.464787   \n",
              "std        1.173200    827.759761     442.667800     29.375234    401.821438   \n",
              "min        3.000000    370.000000       0.000000   1900.000000      0.000000   \n",
              "25%        7.000000   1190.000000       0.000000   1951.000000      0.000000   \n",
              "50%        7.000000   1560.000000       0.000000   1975.000000      0.000000   \n",
              "75%        8.000000   2210.000000     560.000000   1997.000000      0.000000   \n",
              "max       13.000000   9410.000000    4820.000000   2015.000000   2015.000000   \n",
              "\n",
              "            zipcode           lat          long  sqft_living15     sqft_lot15  \n",
              "count  21597.000000  21597.000000  21597.000000   21597.000000   21597.000000  \n",
              "mean   98077.951845     47.560093   -122.213982    1986.620318   12758.283512  \n",
              "std       53.513072      0.138552      0.140724     685.230472   27274.441950  \n",
              "min    98001.000000     47.155900   -122.519000     399.000000     651.000000  \n",
              "25%    98033.000000     47.471100   -122.328000    1490.000000    5100.000000  \n",
              "50%    98065.000000     47.571800   -122.231000    1840.000000    7620.000000  \n",
              "75%    98118.000000     47.678000   -122.125000    2360.000000   10083.000000  \n",
              "max    98199.000000     47.777600   -121.315000    6210.000000  871200.000000  "
            ]
          },
          "metadata": {
            "tags": []
          },
          "execution_count": 5
        }
      ]
    },
    {
      "cell_type": "markdown",
      "metadata": {
        "id": "NnmoQ3vayb8k"
      },
      "source": [
        "Kullanmayacağımız kolonları silelim."
      ]
    },
    {
      "cell_type": "code",
      "metadata": {
        "id": "kc4LZb5uyb8k"
      },
      "source": [
        "del data['sqft_living15']\n",
        "del data['sqft_lot15']"
      ],
      "execution_count": null,
      "outputs": []
    },
    {
      "cell_type": "code",
      "metadata": {
        "id": "s3NjTjP6yb8k",
        "outputId": "f5f76002-e197-4125-ad2f-72471fe75f05"
      },
      "source": [
        "data.shape"
      ],
      "execution_count": null,
      "outputs": [
        {
          "output_type": "execute_result",
          "data": {
            "text/plain": [
              "(21597, 19)"
            ]
          },
          "metadata": {
            "tags": []
          },
          "execution_count": 7
        }
      ]
    },
    {
      "cell_type": "markdown",
      "metadata": {
        "id": "aCtCSSBVyb8l"
      },
      "source": [
        "NaN değerlerin varlığını inceleyelim."
      ]
    },
    {
      "cell_type": "code",
      "metadata": {
        "id": "oH8SK4DCyb8l",
        "outputId": "5fbaff69-f1c0-4b51-c110-4a4d10c5cb7d"
      },
      "source": [
        "data.isnull().any()"
      ],
      "execution_count": null,
      "outputs": [
        {
          "output_type": "execute_result",
          "data": {
            "text/plain": [
              "id               False\n",
              "date             False\n",
              "price            False\n",
              "bedrooms         False\n",
              "bathrooms        False\n",
              "sqft_living      False\n",
              "sqft_lot         False\n",
              "floors           False\n",
              "waterfront       False\n",
              "view             False\n",
              "condition        False\n",
              "grade            False\n",
              "sqft_above       False\n",
              "sqft_basement    False\n",
              "yr_built         False\n",
              "yr_renovated     False\n",
              "zipcode          False\n",
              "lat              False\n",
              "long             False\n",
              "dtype: bool"
            ]
          },
          "metadata": {
            "tags": []
          },
          "execution_count": 8
        }
      ]
    },
    {
      "cell_type": "markdown",
      "metadata": {
        "id": "UHOlPcOCyb8m"
      },
      "source": [
        "Verimizin içinde NaN değerleri yoktur."
      ]
    },
    {
      "cell_type": "markdown",
      "metadata": {
        "id": "b2iC23HRyb8m"
      },
      "source": [
        "Veri türlerimizi kontrol edelim."
      ]
    },
    {
      "cell_type": "code",
      "metadata": {
        "id": "rmUGlP5hyb8m",
        "outputId": "b716480b-635b-423d-d0f7-e46a757df8b0"
      },
      "source": [
        "data.dtypes"
      ],
      "execution_count": null,
      "outputs": [
        {
          "output_type": "execute_result",
          "data": {
            "text/plain": [
              "id                 int64\n",
              "date              object\n",
              "price            float64\n",
              "bedrooms           int64\n",
              "bathrooms        float64\n",
              "sqft_living        int64\n",
              "sqft_lot           int64\n",
              "floors           float64\n",
              "waterfront         int64\n",
              "view               int64\n",
              "condition          int64\n",
              "grade              int64\n",
              "sqft_above         int64\n",
              "sqft_basement      int64\n",
              "yr_built           int64\n",
              "yr_renovated       int64\n",
              "zipcode            int64\n",
              "lat              float64\n",
              "long             float64\n",
              "dtype: object"
            ]
          },
          "metadata": {
            "tags": []
          },
          "execution_count": 9
        }
      ]
    },
    {
      "cell_type": "markdown",
      "metadata": {
        "id": "6qs8BuDByb8n"
      },
      "source": [
        "Endeks olarak \"id\" sütununu belirleyelim. Böylece id numarasını girerek aradığımız konuta ulaşabiliriz."
      ]
    },
    {
      "cell_type": "code",
      "metadata": {
        "id": "KCGOGRf9yb8n",
        "outputId": "ccf29541-0d8c-4068-8835-7299e4284cef"
      },
      "source": [
        "data = data.set_index('id')\n",
        "data.index"
      ],
      "execution_count": null,
      "outputs": [
        {
          "output_type": "execute_result",
          "data": {
            "text/plain": [
              "Int64Index([7129300520, 6414100192, 5631500400, 2487200875, 1954400510,\n",
              "            7237550310, 1321400060, 2008000270, 2414600126, 3793500160,\n",
              "            ...\n",
              "            7852140040, 9834201367, 3448900210, 7936000429, 2997800021,\n",
              "             263000018, 6600060120, 1523300141,  291310100, 1523300157],\n",
              "           dtype='int64', name='id', length=21597)"
            ]
          },
          "metadata": {
            "tags": []
          },
          "execution_count": 10
        }
      ]
    },
    {
      "cell_type": "markdown",
      "metadata": {
        "id": "uYVUGh0myb8o"
      },
      "source": [
        "6414100192 id numaralı konutu inceleyelim."
      ]
    },
    {
      "cell_type": "code",
      "metadata": {
        "id": "shR_Z1v2yb8o",
        "outputId": "5bf420d2-04e0-48bf-802f-0659a619bdfd"
      },
      "source": [
        "data.loc[6414100192]"
      ],
      "execution_count": null,
      "outputs": [
        {
          "output_type": "execute_result",
          "data": {
            "text/plain": [
              "date             12/9/2014\n",
              "price               538000\n",
              "bedrooms                 3\n",
              "bathrooms             2.25\n",
              "sqft_living           2570\n",
              "sqft_lot              7242\n",
              "floors                   2\n",
              "waterfront               0\n",
              "view                     0\n",
              "condition                3\n",
              "grade                    7\n",
              "sqft_above            2170\n",
              "sqft_basement          400\n",
              "yr_built              1951\n",
              "yr_renovated          1991\n",
              "zipcode              98125\n",
              "lat                 47.721\n",
              "long              -122.319\n",
              "Name: 6414100192, dtype: object"
            ]
          },
          "metadata": {
            "tags": []
          },
          "execution_count": 11
        }
      ]
    },
    {
      "cell_type": "markdown",
      "metadata": {
        "id": "oyS2Yx31yb8p"
      },
      "source": [
        "Zip kodunun türü tam sayı ise başa sıfır gelebileceği için string olmasında fayda var."
      ]
    },
    {
      "cell_type": "code",
      "metadata": {
        "id": "pkiiw_fmyb8p",
        "outputId": "7eb6d147-bd69-43fc-c880-fba02cd02a18"
      },
      "source": [
        "data.dtypes[['zipcode']]"
      ],
      "execution_count": null,
      "outputs": [
        {
          "output_type": "execute_result",
          "data": {
            "text/plain": [
              "zipcode    int64\n",
              "dtype: object"
            ]
          },
          "metadata": {
            "tags": []
          },
          "execution_count": 12
        }
      ]
    },
    {
      "cell_type": "code",
      "metadata": {
        "id": "WImLl3bLyb8p"
      },
      "source": [
        "def sayidanMetin(sayi):\n",
        "  return str(sayi)\n",
        "data.zipcode = data.zipcode.apply(sayidanMetin)"
      ],
      "execution_count": null,
      "outputs": []
    },
    {
      "cell_type": "markdown",
      "metadata": {
        "id": "d4sD-i-Zyb8q"
      },
      "source": [
        "Şimdi id sini girip zip koduna ulaşalım."
      ]
    },
    {
      "cell_type": "code",
      "metadata": {
        "id": "3f_Qi2EGyb8q",
        "outputId": "c85ce3ea-57ce-44d9-f050-cb417f1df224"
      },
      "source": [
        "data.zipcode[6414100192]"
      ],
      "execution_count": null,
      "outputs": [
        {
          "output_type": "execute_result",
          "data": {
            "text/plain": [
              "'98125'"
            ]
          },
          "metadata": {
            "tags": []
          },
          "execution_count": 14
        }
      ]
    },
    {
      "cell_type": "markdown",
      "metadata": {
        "id": "l8d7gBqayb8q"
      },
      "source": [
        "Şimdi fiyatları low mid ve high olacak şekilde kategorizasyon işlemleri yapalım."
      ]
    },
    {
      "cell_type": "markdown",
      "metadata": {
        "id": "ttxNBL8lyb8r"
      },
      "source": [
        "Bunun için öncelikle verinin dağılımına bakalım."
      ]
    },
    {
      "cell_type": "code",
      "metadata": {
        "id": "83-V2dFByb8r",
        "outputId": "9dd7ea7f-60a9-40e4-9a94-0a36e40e4740"
      },
      "source": [
        "data['price'].describe()"
      ],
      "execution_count": null,
      "outputs": [
        {
          "output_type": "execute_result",
          "data": {
            "text/plain": [
              "count    2.159700e+04\n",
              "mean     5.402966e+05\n",
              "std      3.673681e+05\n",
              "min      7.800000e+04\n",
              "25%      3.220000e+05\n",
              "50%      4.500000e+05\n",
              "75%      6.450000e+05\n",
              "max      7.700000e+06\n",
              "Name: price, dtype: float64"
            ]
          },
          "metadata": {
            "tags": []
          },
          "execution_count": 15
        }
      ]
    },
    {
      "cell_type": "markdown",
      "metadata": {
        "id": "4XPNCkWbyb8r"
      },
      "source": [
        "Kategori sınırlarını eşit aralıklı tanımlayalalım. \n",
        "Max-min arasında birbirinden eşit uzaklıkta kategori sayisindan bir fazla değer oluşturalım."
      ]
    },
    {
      "cell_type": "code",
      "metadata": {
        "id": "btNAYqknyb8s",
        "outputId": "1fa59bc1-046d-4274-ba47-58879e41b2b2"
      },
      "source": [
        "bins = np.linspace(data['price'].min(), data['price'].max(),4)\n",
        "print(bins)"
      ],
      "execution_count": null,
      "outputs": [
        {
          "output_type": "stream",
          "text": [
            "[  78000.         2618666.66666667 5159333.33333333 7700000.        ]\n"
          ],
          "name": "stdout"
        }
      ]
    },
    {
      "cell_type": "markdown",
      "metadata": {
        "id": "g3FPF0Qmyb8s"
      },
      "source": [
        "Yeni bir kolon yaratıp bu kategorik verileri oluşturup yerleştirelim."
      ]
    },
    {
      "cell_type": "code",
      "metadata": {
        "id": "kRGXXkB_yb8s"
      },
      "source": [
        "kategoriler = ['low','mid','high']\n",
        "data['price-category'] = pd.cut(data['price'], bins, labels = kategoriler, include_lowest = True)"
      ],
      "execution_count": null,
      "outputs": []
    },
    {
      "cell_type": "markdown",
      "metadata": {
        "id": "kftOjfcxyb8s"
      },
      "source": [
        "Oluşturduğumuz kolonu inceleyelim."
      ]
    },
    {
      "cell_type": "code",
      "metadata": {
        "id": "PTALc0v_yb8t",
        "outputId": "804979bb-0995-44fa-8c64-3c46343fbf6b"
      },
      "source": [
        "data[['price','price-category']]"
      ],
      "execution_count": null,
      "outputs": [
        {
          "output_type": "execute_result",
          "data": {
            "text/html": [
              "<div>\n",
              "<style scoped>\n",
              "    .dataframe tbody tr th:only-of-type {\n",
              "        vertical-align: middle;\n",
              "    }\n",
              "\n",
              "    .dataframe tbody tr th {\n",
              "        vertical-align: top;\n",
              "    }\n",
              "\n",
              "    .dataframe thead th {\n",
              "        text-align: right;\n",
              "    }\n",
              "</style>\n",
              "<table border=\"1\" class=\"dataframe\">\n",
              "  <thead>\n",
              "    <tr style=\"text-align: right;\">\n",
              "      <th></th>\n",
              "      <th>price</th>\n",
              "      <th>price-category</th>\n",
              "    </tr>\n",
              "    <tr>\n",
              "      <th>id</th>\n",
              "      <th></th>\n",
              "      <th></th>\n",
              "    </tr>\n",
              "  </thead>\n",
              "  <tbody>\n",
              "    <tr>\n",
              "      <th>7129300520</th>\n",
              "      <td>221900.0</td>\n",
              "      <td>low</td>\n",
              "    </tr>\n",
              "    <tr>\n",
              "      <th>6414100192</th>\n",
              "      <td>538000.0</td>\n",
              "      <td>low</td>\n",
              "    </tr>\n",
              "    <tr>\n",
              "      <th>5631500400</th>\n",
              "      <td>180000.0</td>\n",
              "      <td>low</td>\n",
              "    </tr>\n",
              "    <tr>\n",
              "      <th>2487200875</th>\n",
              "      <td>604000.0</td>\n",
              "      <td>low</td>\n",
              "    </tr>\n",
              "    <tr>\n",
              "      <th>1954400510</th>\n",
              "      <td>510000.0</td>\n",
              "      <td>low</td>\n",
              "    </tr>\n",
              "    <tr>\n",
              "      <th>...</th>\n",
              "      <td>...</td>\n",
              "      <td>...</td>\n",
              "    </tr>\n",
              "    <tr>\n",
              "      <th>263000018</th>\n",
              "      <td>360000.0</td>\n",
              "      <td>low</td>\n",
              "    </tr>\n",
              "    <tr>\n",
              "      <th>6600060120</th>\n",
              "      <td>400000.0</td>\n",
              "      <td>low</td>\n",
              "    </tr>\n",
              "    <tr>\n",
              "      <th>1523300141</th>\n",
              "      <td>402101.0</td>\n",
              "      <td>low</td>\n",
              "    </tr>\n",
              "    <tr>\n",
              "      <th>291310100</th>\n",
              "      <td>400000.0</td>\n",
              "      <td>low</td>\n",
              "    </tr>\n",
              "    <tr>\n",
              "      <th>1523300157</th>\n",
              "      <td>325000.0</td>\n",
              "      <td>low</td>\n",
              "    </tr>\n",
              "  </tbody>\n",
              "</table>\n",
              "<p>21597 rows × 2 columns</p>\n",
              "</div>"
            ],
            "text/plain": [
              "               price price-category\n",
              "id                                 \n",
              "7129300520  221900.0            low\n",
              "6414100192  538000.0            low\n",
              "5631500400  180000.0            low\n",
              "2487200875  604000.0            low\n",
              "1954400510  510000.0            low\n",
              "...              ...            ...\n",
              "263000018   360000.0            low\n",
              "6600060120  400000.0            low\n",
              "1523300141  402101.0            low\n",
              "291310100   400000.0            low\n",
              "1523300157  325000.0            low\n",
              "\n",
              "[21597 rows x 2 columns]"
            ]
          },
          "metadata": {
            "tags": []
          },
          "execution_count": 18
        }
      ]
    },
    {
      "cell_type": "code",
      "metadata": {
        "id": "TVt9TQH2yb8t",
        "outputId": "7db90093-d78c-4172-d4fb-7cedfa615036"
      },
      "source": [
        "data['price-category'].hist(bins=50)"
      ],
      "execution_count": null,
      "outputs": [
        {
          "output_type": "execute_result",
          "data": {
            "text/plain": [
              "<matplotlib.axes._subplots.AxesSubplot at 0x216b66ca88>"
            ]
          },
          "metadata": {
            "tags": []
          },
          "execution_count": 19
        },
        {
          "output_type": "display_data",
          "data": {
            "image/png": "[encoded data removed]",
            "text/plain": [
              "<Figure size 432x288 with 1 Axes>"
            ]
          },
          "metadata": {
            "tags": [],
            "needs_background": "light"
          }
        }
      ]
    },
    {
      "cell_type": "markdown",
      "metadata": {
        "id": "TQZMRXQXyb8t"
      },
      "source": [
        "Tarihleri pandas datetime formatına dönüştürelim. Böylece satış tarihlerine göre sıralayabiliriz."
      ]
    },
    {
      "cell_type": "code",
      "metadata": {
        "id": "Kh1FcZMSyb8t",
        "outputId": "5a8443be-5f49-4de7-9f33-46dc26c73574"
      },
      "source": [
        "data.date = data.date.apply(pd.to_datetime)\n",
        "data.loc[:,['date']]"
      ],
      "execution_count": null,
      "outputs": [
        {
          "output_type": "execute_result",
          "data": {
            "text/html": [
              "<div>\n",
              "<style scoped>\n",
              "    .dataframe tbody tr th:only-of-type {\n",
              "        vertical-align: middle;\n",
              "    }\n",
              "\n",
              "    .dataframe tbody tr th {\n",
              "        vertical-align: top;\n",
              "    }\n",
              "\n",
              "    .dataframe thead th {\n",
              "        text-align: right;\n",
              "    }\n",
              "</style>\n",
              "<table border=\"1\" class=\"dataframe\">\n",
              "  <thead>\n",
              "    <tr style=\"text-align: right;\">\n",
              "      <th></th>\n",
              "      <th>date</th>\n",
              "    </tr>\n",
              "    <tr>\n",
              "      <th>id</th>\n",
              "      <th></th>\n",
              "    </tr>\n",
              "  </thead>\n",
              "  <tbody>\n",
              "    <tr>\n",
              "      <th>7129300520</th>\n",
              "      <td>2014-10-13</td>\n",
              "    </tr>\n",
              "    <tr>\n",
              "      <th>6414100192</th>\n",
              "      <td>2014-12-09</td>\n",
              "    </tr>\n",
              "    <tr>\n",
              "      <th>5631500400</th>\n",
              "      <td>2015-02-25</td>\n",
              "    </tr>\n",
              "    <tr>\n",
              "      <th>2487200875</th>\n",
              "      <td>2014-12-09</td>\n",
              "    </tr>\n",
              "    <tr>\n",
              "      <th>1954400510</th>\n",
              "      <td>2015-02-18</td>\n",
              "    </tr>\n",
              "    <tr>\n",
              "      <th>...</th>\n",
              "      <td>...</td>\n",
              "    </tr>\n",
              "    <tr>\n",
              "      <th>263000018</th>\n",
              "      <td>2014-05-21</td>\n",
              "    </tr>\n",
              "    <tr>\n",
              "      <th>6600060120</th>\n",
              "      <td>2015-02-23</td>\n",
              "    </tr>\n",
              "    <tr>\n",
              "      <th>1523300141</th>\n",
              "      <td>2014-06-23</td>\n",
              "    </tr>\n",
              "    <tr>\n",
              "      <th>291310100</th>\n",
              "      <td>2015-01-16</td>\n",
              "    </tr>\n",
              "    <tr>\n",
              "      <th>1523300157</th>\n",
              "      <td>2014-10-15</td>\n",
              "    </tr>\n",
              "  </tbody>\n",
              "</table>\n",
              "<p>21597 rows × 1 columns</p>\n",
              "</div>"
            ],
            "text/plain": [
              "                 date\n",
              "id                   \n",
              "7129300520 2014-10-13\n",
              "6414100192 2014-12-09\n",
              "5631500400 2015-02-25\n",
              "2487200875 2014-12-09\n",
              "1954400510 2015-02-18\n",
              "...               ...\n",
              "263000018  2014-05-21\n",
              "6600060120 2015-02-23\n",
              "1523300141 2014-06-23\n",
              "291310100  2015-01-16\n",
              "1523300157 2014-10-15\n",
              "\n",
              "[21597 rows x 1 columns]"
            ]
          },
          "metadata": {
            "tags": []
          },
          "execution_count": 20
        }
      ]
    },
    {
      "cell_type": "code",
      "metadata": {
        "id": "8KGE-5uXyb8u",
        "outputId": "82b5fb58-9a2d-4228-c640-4ff44cec5c1d"
      },
      "source": [
        "data.sort_values(by = 'date')"
      ],
      "execution_count": null,
      "outputs": [
        {
          "output_type": "execute_result",
          "data": {
            "text/html": [
              "<div>\n",
              "<style scoped>\n",
              "    .dataframe tbody tr th:only-of-type {\n",
              "        vertical-align: middle;\n",
              "    }\n",
              "\n",
              "    .dataframe tbody tr th {\n",
              "        vertical-align: top;\n",
              "    }\n",
              "\n",
              "    .dataframe thead th {\n",
              "        text-align: right;\n",
              "    }\n",
              "</style>\n",
              "<table border=\"1\" class=\"dataframe\">\n",
              "  <thead>\n",
              "    <tr style=\"text-align: right;\">\n",
              "      <th></th>\n",
              "      <th>date</th>\n",
              "      <th>price</th>\n",
              "      <th>bedrooms</th>\n",
              "      <th>bathrooms</th>\n",
              "      <th>sqft_living</th>\n",
              "      <th>sqft_lot</th>\n",
              "      <th>floors</th>\n",
              "      <th>waterfront</th>\n",
              "      <th>view</th>\n",
              "      <th>condition</th>\n",
              "      <th>grade</th>\n",
              "      <th>sqft_above</th>\n",
              "      <th>sqft_basement</th>\n",
              "      <th>yr_built</th>\n",
              "      <th>yr_renovated</th>\n",
              "      <th>zipcode</th>\n",
              "      <th>lat</th>\n",
              "      <th>long</th>\n",
              "      <th>price-category</th>\n",
              "    </tr>\n",
              "    <tr>\n",
              "      <th>id</th>\n",
              "      <th></th>\n",
              "      <th></th>\n",
              "      <th></th>\n",
              "      <th></th>\n",
              "      <th></th>\n",
              "      <th></th>\n",
              "      <th></th>\n",
              "      <th></th>\n",
              "      <th></th>\n",
              "      <th></th>\n",
              "      <th></th>\n",
              "      <th></th>\n",
              "      <th></th>\n",
              "      <th></th>\n",
              "      <th></th>\n",
              "      <th></th>\n",
              "      <th></th>\n",
              "      <th></th>\n",
              "      <th></th>\n",
              "    </tr>\n",
              "  </thead>\n",
              "  <tbody>\n",
              "    <tr>\n",
              "      <th>2202500290</th>\n",
              "      <td>2014-05-02</td>\n",
              "      <td>435000.0</td>\n",
              "      <td>4</td>\n",
              "      <td>1.00</td>\n",
              "      <td>1450</td>\n",
              "      <td>8800</td>\n",
              "      <td>1.0</td>\n",
              "      <td>0</td>\n",
              "      <td>0</td>\n",
              "      <td>4</td>\n",
              "      <td>7</td>\n",
              "      <td>1450</td>\n",
              "      <td>0</td>\n",
              "      <td>1954</td>\n",
              "      <td>0</td>\n",
              "      <td>98006</td>\n",
              "      <td>47.5746</td>\n",
              "      <td>-122.135</td>\n",
              "      <td>low</td>\n",
              "    </tr>\n",
              "    <tr>\n",
              "      <th>7853361370</th>\n",
              "      <td>2014-05-02</td>\n",
              "      <td>555000.0</td>\n",
              "      <td>4</td>\n",
              "      <td>2.50</td>\n",
              "      <td>3310</td>\n",
              "      <td>6500</td>\n",
              "      <td>2.0</td>\n",
              "      <td>0</td>\n",
              "      <td>0</td>\n",
              "      <td>3</td>\n",
              "      <td>8</td>\n",
              "      <td>3310</td>\n",
              "      <td>0</td>\n",
              "      <td>2012</td>\n",
              "      <td>0</td>\n",
              "      <td>98065</td>\n",
              "      <td>47.5150</td>\n",
              "      <td>-121.870</td>\n",
              "      <td>low</td>\n",
              "    </tr>\n",
              "    <tr>\n",
              "      <th>7197300105</th>\n",
              "      <td>2014-05-02</td>\n",
              "      <td>550000.0</td>\n",
              "      <td>4</td>\n",
              "      <td>2.50</td>\n",
              "      <td>1940</td>\n",
              "      <td>10500</td>\n",
              "      <td>1.0</td>\n",
              "      <td>0</td>\n",
              "      <td>0</td>\n",
              "      <td>4</td>\n",
              "      <td>7</td>\n",
              "      <td>1140</td>\n",
              "      <td>800</td>\n",
              "      <td>1976</td>\n",
              "      <td>0</td>\n",
              "      <td>98052</td>\n",
              "      <td>47.6830</td>\n",
              "      <td>-122.114</td>\n",
              "      <td>low</td>\n",
              "    </tr>\n",
              "    <tr>\n",
              "      <th>3438501320</th>\n",
              "      <td>2014-05-02</td>\n",
              "      <td>295000.0</td>\n",
              "      <td>2</td>\n",
              "      <td>2.50</td>\n",
              "      <td>1630</td>\n",
              "      <td>1368</td>\n",
              "      <td>2.0</td>\n",
              "      <td>0</td>\n",
              "      <td>0</td>\n",
              "      <td>3</td>\n",
              "      <td>7</td>\n",
              "      <td>1280</td>\n",
              "      <td>350</td>\n",
              "      <td>2009</td>\n",
              "      <td>0</td>\n",
              "      <td>98106</td>\n",
              "      <td>47.5489</td>\n",
              "      <td>-122.363</td>\n",
              "      <td>low</td>\n",
              "    </tr>\n",
              "    <tr>\n",
              "      <th>472000620</th>\n",
              "      <td>2014-05-02</td>\n",
              "      <td>790000.0</td>\n",
              "      <td>3</td>\n",
              "      <td>2.50</td>\n",
              "      <td>2600</td>\n",
              "      <td>4750</td>\n",
              "      <td>1.0</td>\n",
              "      <td>0</td>\n",
              "      <td>0</td>\n",
              "      <td>4</td>\n",
              "      <td>9</td>\n",
              "      <td>1700</td>\n",
              "      <td>900</td>\n",
              "      <td>1951</td>\n",
              "      <td>0</td>\n",
              "      <td>98117</td>\n",
              "      <td>47.6833</td>\n",
              "      <td>-122.400</td>\n",
              "      <td>low</td>\n",
              "    </tr>\n",
              "    <tr>\n",
              "      <th>...</th>\n",
              "      <td>...</td>\n",
              "      <td>...</td>\n",
              "      <td>...</td>\n",
              "      <td>...</td>\n",
              "      <td>...</td>\n",
              "      <td>...</td>\n",
              "      <td>...</td>\n",
              "      <td>...</td>\n",
              "      <td>...</td>\n",
              "      <td>...</td>\n",
              "      <td>...</td>\n",
              "      <td>...</td>\n",
              "      <td>...</td>\n",
              "      <td>...</td>\n",
              "      <td>...</td>\n",
              "      <td>...</td>\n",
              "      <td>...</td>\n",
              "      <td>...</td>\n",
              "      <td>...</td>\n",
              "    </tr>\n",
              "    <tr>\n",
              "      <th>8149600265</th>\n",
              "      <td>2015-05-14</td>\n",
              "      <td>725000.0</td>\n",
              "      <td>4</td>\n",
              "      <td>1.75</td>\n",
              "      <td>1980</td>\n",
              "      <td>5850</td>\n",
              "      <td>1.0</td>\n",
              "      <td>0</td>\n",
              "      <td>1</td>\n",
              "      <td>4</td>\n",
              "      <td>8</td>\n",
              "      <td>1380</td>\n",
              "      <td>600</td>\n",
              "      <td>1960</td>\n",
              "      <td>0</td>\n",
              "      <td>98116</td>\n",
              "      <td>47.5607</td>\n",
              "      <td>-122.391</td>\n",
              "      <td>low</td>\n",
              "    </tr>\n",
              "    <tr>\n",
              "      <th>4166600610</th>\n",
              "      <td>2015-05-14</td>\n",
              "      <td>335000.0</td>\n",
              "      <td>3</td>\n",
              "      <td>2.00</td>\n",
              "      <td>1410</td>\n",
              "      <td>44866</td>\n",
              "      <td>1.0</td>\n",
              "      <td>0</td>\n",
              "      <td>0</td>\n",
              "      <td>4</td>\n",
              "      <td>7</td>\n",
              "      <td>1410</td>\n",
              "      <td>0</td>\n",
              "      <td>1985</td>\n",
              "      <td>0</td>\n",
              "      <td>98023</td>\n",
              "      <td>47.3273</td>\n",
              "      <td>-122.370</td>\n",
              "      <td>low</td>\n",
              "    </tr>\n",
              "    <tr>\n",
              "      <th>7923600250</th>\n",
              "      <td>2015-05-15</td>\n",
              "      <td>450000.0</td>\n",
              "      <td>5</td>\n",
              "      <td>2.00</td>\n",
              "      <td>1870</td>\n",
              "      <td>7344</td>\n",
              "      <td>1.5</td>\n",
              "      <td>0</td>\n",
              "      <td>0</td>\n",
              "      <td>3</td>\n",
              "      <td>7</td>\n",
              "      <td>1870</td>\n",
              "      <td>0</td>\n",
              "      <td>1960</td>\n",
              "      <td>0</td>\n",
              "      <td>98007</td>\n",
              "      <td>47.5951</td>\n",
              "      <td>-122.144</td>\n",
              "      <td>low</td>\n",
              "    </tr>\n",
              "    <tr>\n",
              "      <th>5101400871</th>\n",
              "      <td>2015-05-24</td>\n",
              "      <td>445500.0</td>\n",
              "      <td>2</td>\n",
              "      <td>1.75</td>\n",
              "      <td>1390</td>\n",
              "      <td>6670</td>\n",
              "      <td>1.0</td>\n",
              "      <td>0</td>\n",
              "      <td>0</td>\n",
              "      <td>3</td>\n",
              "      <td>6</td>\n",
              "      <td>720</td>\n",
              "      <td>670</td>\n",
              "      <td>1941</td>\n",
              "      <td>0</td>\n",
              "      <td>98115</td>\n",
              "      <td>47.6914</td>\n",
              "      <td>-122.308</td>\n",
              "      <td>low</td>\n",
              "    </tr>\n",
              "    <tr>\n",
              "      <th>9106000005</th>\n",
              "      <td>2015-05-27</td>\n",
              "      <td>1310000.0</td>\n",
              "      <td>4</td>\n",
              "      <td>2.25</td>\n",
              "      <td>3750</td>\n",
              "      <td>5000</td>\n",
              "      <td>2.0</td>\n",
              "      <td>0</td>\n",
              "      <td>0</td>\n",
              "      <td>5</td>\n",
              "      <td>8</td>\n",
              "      <td>2440</td>\n",
              "      <td>1310</td>\n",
              "      <td>1924</td>\n",
              "      <td>0</td>\n",
              "      <td>98115</td>\n",
              "      <td>47.6747</td>\n",
              "      <td>-122.303</td>\n",
              "      <td>low</td>\n",
              "    </tr>\n",
              "  </tbody>\n",
              "</table>\n",
              "<p>21597 rows × 19 columns</p>\n",
              "</div>"
            ],
            "text/plain": [
              "                 date      price  bedrooms  bathrooms  sqft_living  sqft_lot  \\\n",
              "id                                                                             \n",
              "2202500290 2014-05-02   435000.0         4       1.00         1450      8800   \n",
              "7853361370 2014-05-02   555000.0         4       2.50         3310      6500   \n",
              "7197300105 2014-05-02   550000.0         4       2.50         1940     10500   \n",
              "3438501320 2014-05-02   295000.0         2       2.50         1630      1368   \n",
              "472000620  2014-05-02   790000.0         3       2.50         2600      4750   \n",
              "...               ...        ...       ...        ...          ...       ...   \n",
              "8149600265 2015-05-14   725000.0         4       1.75         1980      5850   \n",
              "4166600610 2015-05-14   335000.0         3       2.00         1410     44866   \n",
              "7923600250 2015-05-15   450000.0         5       2.00         1870      7344   \n",
              "5101400871 2015-05-24   445500.0         2       1.75         1390      6670   \n",
              "9106000005 2015-05-27  1310000.0         4       2.25         3750      5000   \n",
              "\n",
              "            floors  waterfront  view  condition  grade  sqft_above  \\\n",
              "id                                                                   \n",
              "2202500290     1.0           0     0          4      7        1450   \n",
              "7853361370     2.0           0     0          3      8        3310   \n",
              "7197300105     1.0           0     0          4      7        1140   \n",
              "3438501320     2.0           0     0          3      7        1280   \n",
              "472000620      1.0           0     0          4      9        1700   \n",
              "...            ...         ...   ...        ...    ...         ...   \n",
              "8149600265     1.0           0     1          4      8        1380   \n",
              "4166600610     1.0           0     0          4      7        1410   \n",
              "7923600250     1.5           0     0          3      7        1870   \n",
              "5101400871     1.0           0     0          3      6         720   \n",
              "9106000005     2.0           0     0          5      8        2440   \n",
              "\n",
              "            sqft_basement  yr_built  yr_renovated zipcode      lat     long  \\\n",
              "id                                                                            \n",
              "2202500290              0      1954             0   98006  47.5746 -122.135   \n",
              "7853361370              0      2012             0   98065  47.5150 -121.870   \n",
              "7197300105            800      1976             0   98052  47.6830 -122.114   \n",
              "3438501320            350      2009             0   98106  47.5489 -122.363   \n",
              "472000620             900      1951             0   98117  47.6833 -122.400   \n",
              "...                   ...       ...           ...     ...      ...      ...   \n",
              "8149600265            600      1960             0   98116  47.5607 -122.391   \n",
              "4166600610              0      1985             0   98023  47.3273 -122.370   \n",
              "7923600250              0      1960             0   98007  47.5951 -122.144   \n",
              "5101400871            670      1941             0   98115  47.6914 -122.308   \n",
              "9106000005           1310      1924             0   98115  47.6747 -122.303   \n",
              "\n",
              "           price-category  \n",
              "id                         \n",
              "2202500290            low  \n",
              "7853361370            low  \n",
              "7197300105            low  \n",
              "3438501320            low  \n",
              "472000620             low  \n",
              "...                   ...  \n",
              "8149600265            low  \n",
              "4166600610            low  \n",
              "7923600250            low  \n",
              "5101400871            low  \n",
              "9106000005            low  \n",
              "\n",
              "[21597 rows x 19 columns]"
            ]
          },
          "metadata": {
            "tags": []
          },
          "execution_count": 21
        }
      ]
    },
    {
      "cell_type": "markdown",
      "metadata": {
        "id": "bDfeGUOmyb8u"
      },
      "source": [
        "Şimdi genel bir analiz yapalım."
      ]
    },
    {
      "cell_type": "markdown",
      "metadata": {
        "id": "6_l2ugobyb8u"
      },
      "source": [
        "Konutların durumuna göre bir analiz yapalım.\n",
        "1 -> En kötü durumda olan(yıpranmış)\n",
        ".\n",
        ".\n",
        "5 -> En iyi durumda olan(mükemmel)"
      ]
    },
    {
      "cell_type": "code",
      "metadata": {
        "id": "Gm5OVNyxyb8v",
        "outputId": "c9548911-f10c-4b86-e7df-c888caf1514d"
      },
      "source": [
        "data.condition = data.condition.astype('category')\n",
        "data.dtypes['condition']\n",
        "data[\"condition\"].value_counts().plot.pie()"
      ],
      "execution_count": null,
      "outputs": [
        {
          "output_type": "execute_result",
          "data": {
            "text/plain": [
              "<matplotlib.axes._subplots.AxesSubplot at 0x21717b64c8>"
            ]
          },
          "metadata": {
            "tags": []
          },
          "execution_count": 22
        },
        {
          "output_type": "display_data",
          "data": {
            "image/png": "[encoded data removed]",
            "text/plain": [
              "<Figure size 432x288 with 1 Axes>"
            ]
          },
          "metadata": {
            "tags": []
          }
        }
      ]
    },
    {
      "cell_type": "markdown",
      "metadata": {
        "id": "2IxCysHKyb8v"
      },
      "source": [
        "3 ve 4 ' ün fazla olduğunu görüyoruz buda konutların orta ve üstü durumlarda olduğunu gösteriyor."
      ]
    },
    {
      "cell_type": "markdown",
      "metadata": {
        "id": "zWqEYqT5yb8v"
      },
      "source": [
        "Durumu \"5\" (mükemmel) olarak belirtilmiş olanları görelim."
      ]
    },
    {
      "cell_type": "code",
      "metadata": {
        "id": "SGLJdV70yb8v",
        "outputId": "8e362e6b-5ba3-42b7-c16c-b3bfc6a1d0d9"
      },
      "source": [
        "durumlar = data[data['condition']==5]\n",
        "durumlar.head()"
      ],
      "execution_count": null,
      "outputs": [
        {
          "output_type": "execute_result",
          "data": {
            "text/html": [
              "<div>\n",
              "<style scoped>\n",
              "    .dataframe tbody tr th:only-of-type {\n",
              "        vertical-align: middle;\n",
              "    }\n",
              "\n",
              "    .dataframe tbody tr th {\n",
              "        vertical-align: top;\n",
              "    }\n",
              "\n",
              "    .dataframe thead th {\n",
              "        text-align: right;\n",
              "    }\n",
              "</style>\n",
              "<table border=\"1\" class=\"dataframe\">\n",
              "  <thead>\n",
              "    <tr style=\"text-align: right;\">\n",
              "      <th></th>\n",
              "      <th>date</th>\n",
              "      <th>price</th>\n",
              "      <th>bedrooms</th>\n",
              "      <th>bathrooms</th>\n",
              "      <th>sqft_living</th>\n",
              "      <th>sqft_lot</th>\n",
              "      <th>floors</th>\n",
              "      <th>waterfront</th>\n",
              "      <th>view</th>\n",
              "      <th>condition</th>\n",
              "      <th>grade</th>\n",
              "      <th>sqft_above</th>\n",
              "      <th>sqft_basement</th>\n",
              "      <th>yr_built</th>\n",
              "      <th>yr_renovated</th>\n",
              "      <th>zipcode</th>\n",
              "      <th>lat</th>\n",
              "      <th>long</th>\n",
              "      <th>price-category</th>\n",
              "    </tr>\n",
              "    <tr>\n",
              "      <th>id</th>\n",
              "      <th></th>\n",
              "      <th></th>\n",
              "      <th></th>\n",
              "      <th></th>\n",
              "      <th></th>\n",
              "      <th></th>\n",
              "      <th></th>\n",
              "      <th></th>\n",
              "      <th></th>\n",
              "      <th></th>\n",
              "      <th></th>\n",
              "      <th></th>\n",
              "      <th></th>\n",
              "      <th></th>\n",
              "      <th></th>\n",
              "      <th></th>\n",
              "      <th></th>\n",
              "      <th></th>\n",
              "      <th></th>\n",
              "    </tr>\n",
              "  </thead>\n",
              "  <tbody>\n",
              "    <tr>\n",
              "      <th>2487200875</th>\n",
              "      <td>2014-12-09</td>\n",
              "      <td>604000.0</td>\n",
              "      <td>4</td>\n",
              "      <td>3.00</td>\n",
              "      <td>1960</td>\n",
              "      <td>5000</td>\n",
              "      <td>1.0</td>\n",
              "      <td>0</td>\n",
              "      <td>0</td>\n",
              "      <td>5</td>\n",
              "      <td>7</td>\n",
              "      <td>1050</td>\n",
              "      <td>910</td>\n",
              "      <td>1965</td>\n",
              "      <td>0</td>\n",
              "      <td>98136</td>\n",
              "      <td>47.5208</td>\n",
              "      <td>-122.393</td>\n",
              "      <td>low</td>\n",
              "    </tr>\n",
              "    <tr>\n",
              "      <th>1202000200</th>\n",
              "      <td>2014-11-03</td>\n",
              "      <td>233000.0</td>\n",
              "      <td>3</td>\n",
              "      <td>2.00</td>\n",
              "      <td>1710</td>\n",
              "      <td>4697</td>\n",
              "      <td>1.5</td>\n",
              "      <td>0</td>\n",
              "      <td>0</td>\n",
              "      <td>5</td>\n",
              "      <td>6</td>\n",
              "      <td>1710</td>\n",
              "      <td>0</td>\n",
              "      <td>1941</td>\n",
              "      <td>0</td>\n",
              "      <td>98002</td>\n",
              "      <td>47.3048</td>\n",
              "      <td>-122.218</td>\n",
              "      <td>low</td>\n",
              "    </tr>\n",
              "    <tr>\n",
              "      <th>3303700376</th>\n",
              "      <td>2014-12-01</td>\n",
              "      <td>667000.0</td>\n",
              "      <td>3</td>\n",
              "      <td>1.00</td>\n",
              "      <td>1400</td>\n",
              "      <td>1581</td>\n",
              "      <td>1.5</td>\n",
              "      <td>0</td>\n",
              "      <td>0</td>\n",
              "      <td>5</td>\n",
              "      <td>8</td>\n",
              "      <td>1400</td>\n",
              "      <td>0</td>\n",
              "      <td>1909</td>\n",
              "      <td>0</td>\n",
              "      <td>98112</td>\n",
              "      <td>47.6221</td>\n",
              "      <td>-122.314</td>\n",
              "      <td>low</td>\n",
              "    </tr>\n",
              "    <tr>\n",
              "      <th>822039084</th>\n",
              "      <td>2015-03-11</td>\n",
              "      <td>1350000.0</td>\n",
              "      <td>3</td>\n",
              "      <td>2.50</td>\n",
              "      <td>2753</td>\n",
              "      <td>65005</td>\n",
              "      <td>1.0</td>\n",
              "      <td>1</td>\n",
              "      <td>2</td>\n",
              "      <td>5</td>\n",
              "      <td>9</td>\n",
              "      <td>2165</td>\n",
              "      <td>588</td>\n",
              "      <td>1953</td>\n",
              "      <td>0</td>\n",
              "      <td>98070</td>\n",
              "      <td>47.4041</td>\n",
              "      <td>-122.451</td>\n",
              "      <td>low</td>\n",
              "    </tr>\n",
              "    <tr>\n",
              "      <th>5072410070</th>\n",
              "      <td>2014-10-21</td>\n",
              "      <td>505000.0</td>\n",
              "      <td>3</td>\n",
              "      <td>1.75</td>\n",
              "      <td>2519</td>\n",
              "      <td>8690</td>\n",
              "      <td>2.0</td>\n",
              "      <td>0</td>\n",
              "      <td>0</td>\n",
              "      <td>5</td>\n",
              "      <td>8</td>\n",
              "      <td>2519</td>\n",
              "      <td>0</td>\n",
              "      <td>1973</td>\n",
              "      <td>0</td>\n",
              "      <td>98166</td>\n",
              "      <td>47.4428</td>\n",
              "      <td>-122.344</td>\n",
              "      <td>low</td>\n",
              "    </tr>\n",
              "  </tbody>\n",
              "</table>\n",
              "</div>"
            ],
            "text/plain": [
              "                 date      price  bedrooms  bathrooms  sqft_living  sqft_lot  \\\n",
              "id                                                                             \n",
              "2487200875 2014-12-09   604000.0         4       3.00         1960      5000   \n",
              "1202000200 2014-11-03   233000.0         3       2.00         1710      4697   \n",
              "3303700376 2014-12-01   667000.0         3       1.00         1400      1581   \n",
              "822039084  2015-03-11  1350000.0         3       2.50         2753     65005   \n",
              "5072410070 2014-10-21   505000.0         3       1.75         2519      8690   \n",
              "\n",
              "            floors  waterfront  view condition  grade  sqft_above  \\\n",
              "id                                                                  \n",
              "2487200875     1.0           0     0         5      7        1050   \n",
              "1202000200     1.5           0     0         5      6        1710   \n",
              "3303700376     1.5           0     0         5      8        1400   \n",
              "822039084      1.0           1     2         5      9        2165   \n",
              "5072410070     2.0           0     0         5      8        2519   \n",
              "\n",
              "            sqft_basement  yr_built  yr_renovated zipcode      lat     long  \\\n",
              "id                                                                            \n",
              "2487200875            910      1965             0   98136  47.5208 -122.393   \n",
              "1202000200              0      1941             0   98002  47.3048 -122.218   \n",
              "3303700376              0      1909             0   98112  47.6221 -122.314   \n",
              "822039084             588      1953             0   98070  47.4041 -122.451   \n",
              "5072410070              0      1973             0   98166  47.4428 -122.344   \n",
              "\n",
              "           price-category  \n",
              "id                         \n",
              "2487200875            low  \n",
              "1202000200            low  \n",
              "3303700376            low  \n",
              "822039084             low  \n",
              "5072410070            low  "
            ]
          },
          "metadata": {
            "tags": []
          },
          "execution_count": 23
        }
      ]
    },
    {
      "cell_type": "markdown",
      "metadata": {
        "id": "9KLnye4Ayb8w"
      },
      "source": [
        "Konut durumu kategorik verisini, kategorileri sıralı olacak şekilde değiştirelim.(kötüden-iyiye)"
      ]
    },
    {
      "cell_type": "code",
      "metadata": {
        "id": "Fz5CrGE-yb8w",
        "outputId": "7028550a-7578-47c2-d693-956a3450ea7c"
      },
      "source": [
        "data[\"condition\"].cat.as_ordered(inplace = True)\n",
        "print(\"min:\",data[\"condition\"].min(),\", max:\",data[\"condition\"].max())"
      ],
      "execution_count": null,
      "outputs": [
        {
          "output_type": "stream",
          "text": [
            "min: 1 , max: 5\n"
          ],
          "name": "stdout"
        }
      ]
    },
    {
      "cell_type": "markdown",
      "metadata": {
        "id": "50X84ejbyb8w"
      },
      "source": [
        "Konutlara verilen notlara göre bir analiz yapalım."
      ]
    },
    {
      "cell_type": "code",
      "metadata": {
        "id": "eNuqLAOZyb8x",
        "outputId": "24425943-bc82-45f5-bb32-2714446a81bd"
      },
      "source": [
        "data['grade'].hist(bins=20)"
      ],
      "execution_count": null,
      "outputs": [
        {
          "output_type": "execute_result",
          "data": {
            "text/plain": [
              "<matplotlib.axes._subplots.AxesSubplot at 0x2171056888>"
            ]
          },
          "metadata": {
            "tags": []
          },
          "execution_count": 25
        },
        {
          "output_type": "display_data",
          "data": {
            "image/png": "[encoded data removed]",
            "text/plain": [
              "<Figure size 432x288 with 1 Axes>"
            ]
          },
          "metadata": {
            "tags": [],
            "needs_background": "light"
          }
        }
      ]
    },
    {
      "cell_type": "markdown",
      "metadata": {
        "id": "kQJga30Byb8x"
      },
      "source": [
        "Konut notları 7-8 arasında yoğundur. "
      ]
    },
    {
      "cell_type": "markdown",
      "metadata": {
        "id": "KtHF-HXqyb8x"
      },
      "source": [
        "Konutların havuzları olup olmasına göre inceleyelim. \n",
        "0 -> yok\n",
        "1 -> var"
      ]
    },
    {
      "cell_type": "code",
      "metadata": {
        "id": "s0fuUPK8yb8x",
        "outputId": "e3d2fc43-4571-4755-d9bd-542e6be8f1ce"
      },
      "source": [
        "data[\"waterfront\"].value_counts()"
      ],
      "execution_count": null,
      "outputs": [
        {
          "output_type": "execute_result",
          "data": {
            "text/plain": [
              "0    21434\n",
              "1      163\n",
              "Name: waterfront, dtype: int64"
            ]
          },
          "metadata": {
            "tags": []
          },
          "execution_count": 26
        }
      ]
    },
    {
      "cell_type": "markdown",
      "metadata": {
        "id": "GGuQfTisyb8y"
      },
      "source": [
        "Yenilenen evlere bakalım."
      ]
    },
    {
      "cell_type": "code",
      "metadata": {
        "id": "tpSCtX4Ayb8y",
        "outputId": "ceb3f046-6d1a-408d-8f62-812d0da1b9a0"
      },
      "source": [
        "yenilenenler = data\n",
        "yenilenenler = yenilenenler[data['yr_renovated'] > 1]#0 olanlar yenilenme işlemi görmediği için 1'den büyükleri aldım.\n",
        "yenilenenler.yr_renovated"
      ],
      "execution_count": null,
      "outputs": [
        {
          "output_type": "execute_result",
          "data": {
            "text/plain": [
              "id\n",
              "6414100192    1991\n",
              "9547205180    2002\n",
              "1483300570    1991\n",
              "2450000295    2010\n",
              "3626039325    1999\n",
              "              ... \n",
              "7351200295    1960\n",
              "126039256     2006\n",
              "4305600360    2009\n",
              "3319500628    2014\n",
              "1278000210    2007\n",
              "Name: yr_renovated, Length: 914, dtype: int64"
            ]
          },
          "metadata": {
            "tags": []
          },
          "execution_count": 27
        }
      ]
    },
    {
      "cell_type": "code",
      "metadata": {
        "id": "qJckQkndyb8y",
        "outputId": "cc3decfd-671c-46e1-a286-c826d46a1e6f"
      },
      "source": [
        "data[\"yr_renovated\"].value_counts()"
      ],
      "execution_count": null,
      "outputs": [
        {
          "output_type": "execute_result",
          "data": {
            "text/plain": [
              "0       20683\n",
              "2014       91\n",
              "2013       37\n",
              "2003       36\n",
              "2000       35\n",
              "        ...  \n",
              "1934        1\n",
              "1959        1\n",
              "1951        1\n",
              "1948        1\n",
              "1944        1\n",
              "Name: yr_renovated, Length: 70, dtype: int64"
            ]
          },
          "metadata": {
            "tags": []
          },
          "execution_count": 28
        }
      ]
    },
    {
      "cell_type": "markdown",
      "metadata": {
        "id": "x9n-OhBayb8y"
      },
      "source": [
        "En çok 2014 yılında konut yenileme işlemi yapılmıştır."
      ]
    },
    {
      "cell_type": "markdown",
      "metadata": {
        "id": "tMmJ_qLQyb8z"
      },
      "source": [
        "Genel olarak verilerin dağılımını inceleyelim."
      ]
    },
    {
      "cell_type": "code",
      "metadata": {
        "id": "S7Kx7Pq9yb8z",
        "outputId": "c580db01-cd45-41ae-a7d5-634cbb5c8e5d"
      },
      "source": [
        "data.hist(bins=50, xlabelsize = 10, ylabelsize = 10)\n",
        "plt.tight_layout(rect=(0, 0, 2, 2))"
      ],
      "execution_count": null,
      "outputs": [
        {
          "output_type": "display_data",
          "data": {
            "image/png": "[encoded data removed]",
            "text/plain": [
              "<Figure size 432x288 with 16 Axes>"
            ]
          },
          "metadata": {
            "tags": [],
            "needs_background": "light"
          }
        }
      ]
    },
    {
      "cell_type": "markdown",
      "metadata": {
        "id": "KdIEeeFAyb8z"
      },
      "source": [
        "Verilerin birbirleri ile olan ilişkisini inceleyelim.(Fiyat tahmininde bu özelliklerden faydalanacağız.)"
      ]
    },
    {
      "cell_type": "code",
      "metadata": {
        "id": "PtGKK42Pyb8z",
        "outputId": "f34926cc-6189-45e2-8870-6b84f1c7a8db"
      },
      "source": [
        "ozellikler = ['price','bathrooms','bedrooms','sqft_living']\n",
        "pp = sns.pairplot(data[ozellikler], height=1.8, aspect=1.8,plot_kws=dict(edgecolor=\"k\", linewidth=0.5),diag_kind=\"kde\", diag_kws=dict(shade=True))"
      ],
      "execution_count": null,
      "outputs": [
        {
          "output_type": "display_data",
          "data": {
            "image/png": "[encoded data removed]",
            "text/plain": [
              "<Figure size 933.12x518.4 with 20 Axes>"
            ]
          },
          "metadata": {
            "tags": [],
            "needs_background": "light"
          }
        }
      ]
    },
    {
      "cell_type": "markdown",
      "metadata": {
        "id": "SqRmqMlTyb80"
      },
      "source": [
        "Veriler büyük oranda diyagonal üzerinde, bir özellikteki artış diğer özellikte de artışa karşılık geliyor. "
      ]
    },
    {
      "cell_type": "markdown",
      "metadata": {
        "id": "RWtKQtoHyb80"
      },
      "source": [
        "Konuta verilen notla fiyatın ilişkisine bakalım."
      ]
    },
    {
      "cell_type": "code",
      "metadata": {
        "id": "6Vfb1-qmyb80",
        "outputId": "daf90096-c500-4f65-cbf0-c0a718f1baae"
      },
      "source": [
        "sns.barplot(x=\"grade\", y=\"price\", data=data)\n",
        "plt.title(\"Bar plot: grade\")"
      ],
      "execution_count": null,
      "outputs": [
        {
          "output_type": "execute_result",
          "data": {
            "text/plain": [
              "Text(0.5, 1.0, 'Bar plot: grade')"
            ]
          },
          "metadata": {
            "tags": []
          },
          "execution_count": 31
        },
        {
          "output_type": "display_data",
          "data": {
            "image/png": "[encoded data removed]",
            "text/plain": [
              "<Figure size 432x288 with 1 Axes>"
            ]
          },
          "metadata": {
            "tags": [],
            "needs_background": "light"
          }
        }
      ]
    },
    {
      "cell_type": "markdown",
      "metadata": {
        "id": "fIKaR3T8yb80"
      },
      "source": [
        "Verilen not arttıkça konut fiyatıda fazla oluyor."
      ]
    },
    {
      "cell_type": "markdown",
      "metadata": {
        "id": "WcTrczNTyb81"
      },
      "source": [
        "Konutun durumu ile fiyatın ilişkisine bakalım."
      ]
    },
    {
      "cell_type": "code",
      "metadata": {
        "id": "3IxjF7Bbyb81",
        "outputId": "f1f0d6a8-f274-4269-a74a-6836e812764d"
      },
      "source": [
        "sns.barplot(x=\"condition\", y=\"price\", data=data)\n",
        "plt.title(\"Bar plot: condition-price\")"
      ],
      "execution_count": null,
      "outputs": [
        {
          "output_type": "execute_result",
          "data": {
            "text/plain": [
              "Text(0.5, 1.0, 'Bar plot: condition-price')"
            ]
          },
          "metadata": {
            "tags": []
          },
          "execution_count": 32
        },
        {
          "output_type": "display_data",
          "data": {
            "image/png": "[encoded data removed]",
            "text/plain": [
              "<Figure size 432x288 with 1 Axes>"
            ]
          },
          "metadata": {
            "tags": [],
            "needs_background": "light"
          }
        }
      ]
    },
    {
      "cell_type": "markdown",
      "metadata": {
        "id": "cfR2MWqNyb82"
      },
      "source": [
        "Genel anlamda durumu daha iyi olanın fiyatıda fazla oluyor."
      ]
    },
    {
      "cell_type": "markdown",
      "metadata": {
        "id": "8nETg0a6yb83"
      },
      "source": [
        "Metrekare ile fiyat ilişkisine bakalım."
      ]
    },
    {
      "cell_type": "code",
      "metadata": {
        "id": "pSbLPnbLyb83",
        "outputId": "06564adb-ff5a-46fd-c6e0-e4d0ba22d296"
      },
      "source": [
        "sns.regplot(x='sqft_living',y='price',data=data)"
      ],
      "execution_count": null,
      "outputs": [
        {
          "output_type": "execute_result",
          "data": {
            "text/plain": [
              "<matplotlib.axes._subplots.AxesSubplot at 0x2171ded0c8>"
            ]
          },
          "metadata": {
            "tags": []
          },
          "execution_count": 33
        },
        {
          "output_type": "display_data",
          "data": {
            "image/png": "[encoded data removed]",
            "text/plain": [
              "<Figure size 432x288 with 1 Axes>"
            ]
          },
          "metadata": {
            "tags": [],
            "needs_background": "light"
          }
        }
      ]
    },
    {
      "cell_type": "markdown",
      "metadata": {
        "id": "B_-mfpEUyb84"
      },
      "source": [
        "Bulunan eğri pozitif yani korelasyon pozitif, konutun sahip olduğu metrekare artarken, fiyat da artıyor."
      ]
    },
    {
      "cell_type": "markdown",
      "metadata": {
        "id": "U-megdifyb84"
      },
      "source": [
        "Konutun sahip olduğu banyo sayısı ile fiyat ilişkisine bakalım."
      ]
    },
    {
      "cell_type": "code",
      "metadata": {
        "id": "8T5nOxHuyb84",
        "outputId": "aa41a083-57e0-4342-d493-8ef7e8b0a933"
      },
      "source": [
        "sns.regplot(x='bathrooms',y='price',data=data)"
      ],
      "execution_count": null,
      "outputs": [
        {
          "output_type": "execute_result",
          "data": {
            "text/plain": [
              "<matplotlib.axes._subplots.AxesSubplot at 0x217258bc88>"
            ]
          },
          "metadata": {
            "tags": []
          },
          "execution_count": 34
        },
        {
          "output_type": "display_data",
          "data": {
            "image/png": "[encoded data removed]",
            "text/plain": [
              "<Figure size 432x288 with 1 Axes>"
            ]
          },
          "metadata": {
            "tags": [],
            "needs_background": "light"
          }
        }
      ]
    },
    {
      "cell_type": "markdown",
      "metadata": {
        "id": "XPQ8mINVyb85"
      },
      "source": [
        "Korelasyon pozitif, konutun sahip olduğu banyo sayısı artarken, fiyat da artıyor."
      ]
    },
    {
      "cell_type": "markdown",
      "metadata": {
        "id": "CwpVHhivyb85"
      },
      "source": [
        "Konutun sahip olduğu yatak odası sayısı ile fiyat ilişkisine bakalım."
      ]
    },
    {
      "cell_type": "code",
      "metadata": {
        "id": "Uy2QxwMayb85",
        "outputId": "bc412948-cbe5-4779-c08e-15a79fcca174"
      },
      "source": [
        "sns.regplot(x='bedrooms',y='price',data=data)"
      ],
      "execution_count": null,
      "outputs": [
        {
          "output_type": "execute_result",
          "data": {
            "text/plain": [
              "<matplotlib.axes._subplots.AxesSubplot at 0x217259a108>"
            ]
          },
          "metadata": {
            "tags": []
          },
          "execution_count": 35
        },
        {
          "output_type": "display_data",
          "data": {
            "image/png": "[encoded data removed]",
            "text/plain": [
              "<Figure size 432x288 with 1 Axes>"
            ]
          },
          "metadata": {
            "tags": [],
            "needs_background": "light"
          }
        }
      ]
    },
    {
      "cell_type": "markdown",
      "metadata": {
        "id": "woD1Ymtpyb85"
      },
      "source": [
        "Korelasyon pozitif, konutun sahip olduğu yatak odası sayısı artarken, fiyat da artıyor."
      ]
    },
    {
      "cell_type": "markdown",
      "metadata": {
        "id": "to5g31ekyb86"
      },
      "source": [
        "Bütün özelliklerin birbiri ile olan ilişkisini inceleyelim."
      ]
    },
    {
      "cell_type": "code",
      "metadata": {
        "id": "nvsdcPruyb86",
        "outputId": "ba776341-116b-47ea-a4c4-5627ef376438"
      },
      "source": [
        "corr = data.corr()\n",
        "plt.figure(figsize=(16, 12))\n",
        "plt.title('Konut Korelasyon')\n",
        "ax = sns.heatmap(corr,square=True ,annot=True,fmt ='.2f',linecolor='white')\n",
        "ax.set_xticklabels(ax.get_xticklabels(),rotation=90);\n",
        "ax.set_yticklabels(ax.get_yticklabels(),rotation=30);"
      ],
      "execution_count": null,
      "outputs": [
        {
          "output_type": "display_data",
          "data": {
            "image/png": "[encoded data removed]",
            "text/plain": [
              "<Figure size 1152x864 with 2 Axes>"
            ]
          },
          "metadata": {
            "tags": [],
            "needs_background": "light"
          }
        }
      ]
    },
    {
      "cell_type": "markdown",
      "metadata": {
        "id": "o7FLfGcayb86"
      },
      "source": [
        "Fiyat ile metrekare , konut notu , yatak odası sayısı, banyo sayısı özellikleri arasındaki korelasyon pozitiftir."
      ]
    },
    {
      "cell_type": "markdown",
      "metadata": {
        "id": "H29trxRByb86"
      },
      "source": [
        "Özellikler ile fiyat arasındaki ilişkiyi modelleyelim."
      ]
    },
    {
      "cell_type": "markdown",
      "metadata": {
        "id": "JjhVpYp5yb87"
      },
      "source": [
        "Doğrusal modelleme için kütüphaneyi yükleyelim, obje oluşturalım ve kullanılacak özellikleri ekleyelim."
      ]
    },
    {
      "cell_type": "code",
      "metadata": {
        "id": "eAQR_wyuyb87",
        "outputId": "74b79aa5-dcc2-46d4-d40b-3e1bd18cebcc"
      },
      "source": [
        "from sklearn.linear_model import LinearRegression\n",
        "lr = LinearRegression()\n",
        "ozellikler = data[['sqft_living','grade','bathrooms','bedrooms']]\n",
        "lr.fit(ozellikler,data['price'])"
      ],
      "execution_count": null,
      "outputs": [
        {
          "output_type": "execute_result",
          "data": {
            "text/plain": [
              "LinearRegression(copy_X=True, fit_intercept=True, n_jobs=None, normalize=False)"
            ]
          },
          "metadata": {
            "tags": []
          },
          "execution_count": 37
        }
      ]
    },
    {
      "cell_type": "code",
      "metadata": {
        "id": "Q9ayHd9jyb87",
        "outputId": "f56d2987-a9e7-41c1-8b1b-8ba1aa46f57c"
      },
      "source": [
        "print(\"Kurulan model:\")\n",
        "print(' fiyat = ',lr.intercept_, ' + ',lr.coef_[0], ' * sqft_living',\n",
        "     ' + ',lr.coef_[1], ' * grade',\n",
        "     ' + ',lr.coef_[2], ' * bathrooms',\n",
        "     ' + ',lr.coef_[2], ' * bedrooms'\n",
        "     ) "
      ],
      "execution_count": null,
      "outputs": [
        {
          "output_type": "stream",
          "text": [
            "Kurulan model:\n",
            " fiyat =  -481267.69636011764  +  226.9303667710102  * sqft_living  +  96738.19269068194  * grade  +  -27216.3943936719  * bathrooms  +  -27216.3943936719  * bedrooms\n"
          ],
          "name": "stdout"
        }
      ]
    },
    {
      "cell_type": "markdown",
      "metadata": {
        "id": "geTahXJhyb87"
      },
      "source": [
        "Verimizin ilk 5 satırındaki özellikleri ve modeli kullanarak fiyatı tahmin edelim."
      ]
    },
    {
      "cell_type": "code",
      "metadata": {
        "id": "tXZ1SDXzyb88",
        "outputId": "8c9b26fa-c73e-452e-fc2a-90db313b3291"
      },
      "source": [
        "kestirilen_fiyatlar = lr.predict(ozellikler[:5])\n",
        "print('Kestirilen fiyatlar: ',np.round(kestirilen_fiyatlar))\n",
        "print('Gerçek değerler: ', np.array(data['price'])[:5])"
      ],
      "execution_count": null,
      "outputs": [
        {
          "output_type": "stream",
          "text": [
            "Kestirilen fiyatlar:  [317507. 598920. 167379. 400429. 500494.]\n",
            "Gerçek değerler:  [221900. 538000. 180000. 604000. 510000.]\n"
          ],
          "name": "stdout"
        }
      ]
    },
    {
      "cell_type": "markdown",
      "metadata": {
        "id": "bnDRNhbByb88"
      },
      "source": [
        "Kestirimlerimiz ile gerçek değer arasındaki farkı inceleyelim. Bunun için residual-plot yöntemini kullanalım."
      ]
    },
    {
      "cell_type": "code",
      "metadata": {
        "id": "APotQlvJyb88",
        "outputId": "067cb366-143c-4760-d45d-8b6cde14e0f9"
      },
      "source": [
        "sns.residplot(data['sqft_living'],data['price'])"
      ],
      "execution_count": null,
      "outputs": [
        {
          "output_type": "execute_result",
          "data": {
            "text/plain": [
              "<matplotlib.axes._subplots.AxesSubplot at 0x21752fea08>"
            ]
          },
          "metadata": {
            "tags": []
          },
          "execution_count": 40
        },
        {
          "output_type": "display_data",
          "data": {
            "image/png": "[encoded data removed]",
            "text/plain": [
              "<Figure size 432x288 with 1 Axes>"
            ]
          },
          "metadata": {
            "tags": [],
            "needs_background": "light"
          }
        }
      ]
    },
    {
      "cell_type": "markdown",
      "metadata": {
        "id": "j8Ab-FD1yb89"
      },
      "source": [
        "Konut metrekaresi arttıkça hata da artıyor."
      ]
    },
    {
      "cell_type": "markdown",
      "metadata": {
        "id": "DoWPTR2Iyb89"
      },
      "source": [
        "Dağılımı çizdirip hata doğasını inceleyelim."
      ]
    },
    {
      "cell_type": "code",
      "metadata": {
        "id": "OxohAWpTyb89",
        "outputId": "4ee7df07-9fb2-41ee-a148-713dcb295c56"
      },
      "source": [
        "y = data['price']\n",
        "x = data[['sqft_living']]\n",
        "lr.fit(x,y)\n",
        "y_kestirilen = lr.predict(x)\n",
        "ax1 = sns.distplot(data['price'],hist=False,color='r',label='Gerçek değer')\n",
        "sns.distplot(y_kestirilen,hist=False,color='b',label='Kestirilen değer',ax=ax1)"
      ],
      "execution_count": null,
      "outputs": [
        {
          "output_type": "execute_result",
          "data": {
            "text/plain": [
              "<matplotlib.axes._subplots.AxesSubplot at 0x21753c0608>"
            ]
          },
          "metadata": {
            "tags": []
          },
          "execution_count": 41
        },
        {
          "output_type": "display_data",
          "data": {
            "image/png": "[encoded data removed]",
            "text/plain": [
              "<Figure size 432x288 with 1 Axes>"
            ]
          },
          "metadata": {
            "tags": [],
            "needs_background": "light"
          }
        }
      ]
    },
    {
      "cell_type": "markdown",
      "metadata": {
        "id": "cqzM6U7Fyb8-"
      },
      "source": [
        "Tüm özelliklerin dağılımı çizdirip hata doğasını inceleyelim."
      ]
    },
    {
      "cell_type": "code",
      "metadata": {
        "id": "HQkdyridyb8-",
        "outputId": "c72d27dc-7bae-4860-9ea8-9e0e5a3a1136"
      },
      "source": [
        "y = data['price']\n",
        "x = data[['sqft_living','grade','bathrooms','bedrooms']]\n",
        "lr.fit(x,y)\n",
        "y_kestirilen = lr.predict(x)\n",
        "ax1 = sns.distplot(data['price'],hist=False,color='r',label='Gerçek değer')\n",
        "sns.distplot(y_kestirilen,hist=False,color='b',label='Kestirilen değer',ax=ax1)"
      ],
      "execution_count": null,
      "outputs": [
        {
          "output_type": "execute_result",
          "data": {
            "text/plain": [
              "<matplotlib.axes._subplots.AxesSubplot at 0x217544ab08>"
            ]
          },
          "metadata": {
            "tags": []
          },
          "execution_count": 42
        },
        {
          "output_type": "display_data",
          "data": {
            "image/png": "[encoded data removed]",
            "text/plain": [
              "<Figure size 432x288 with 1 Axes>"
            ]
          },
          "metadata": {
            "tags": [],
            "needs_background": "light"
          }
        }
      ]
    },
    {
      "cell_type": "markdown",
      "metadata": {
        "id": "f-RKXPvyyb8-"
      },
      "source": [
        "Birden fazla özellik kullanıldığında hata azaldı."
      ]
    },
    {
      "cell_type": "markdown",
      "metadata": {
        "id": "9jojwSZXyb8_"
      },
      "source": [
        "Konutları haritada göstermek için kordinat bilgilerini alalım."
      ]
    },
    {
      "cell_type": "markdown",
      "metadata": {
        "id": "AZlZ3xqyyb8_"
      },
      "source": [
        "Gerekli kütüphaneyi import ediyoruz."
      ]
    },
    {
      "cell_type": "code",
      "metadata": {
        "id": "ZBAkl-M3yb8_"
      },
      "source": [
        "import folium"
      ],
      "execution_count": null,
      "outputs": []
    },
    {
      "cell_type": "code",
      "metadata": {
        "id": "1zjaEy3Yyb8_",
        "outputId": "f3a6a8eb-4492-484a-8b4e-8c05fa18c52b"
      },
      "source": [
        "loc = pd.read_csv('file:///C:/Users/Batuhan/Desktop/kc_house_data.csv')\n",
        "loc = loc[['id','lat','long']]\n",
        "loc"
      ],
      "execution_count": null,
      "outputs": [
        {
          "output_type": "execute_result",
          "data": {
            "text/html": [
              "<div>\n",
              "<style scoped>\n",
              "    .dataframe tbody tr th:only-of-type {\n",
              "        vertical-align: middle;\n",
              "    }\n",
              "\n",
              "    .dataframe tbody tr th {\n",
              "        vertical-align: top;\n",
              "    }\n",
              "\n",
              "    .dataframe thead th {\n",
              "        text-align: right;\n",
              "    }\n",
              "</style>\n",
              "<table border=\"1\" class=\"dataframe\">\n",
              "  <thead>\n",
              "    <tr style=\"text-align: right;\">\n",
              "      <th></th>\n",
              "      <th>id</th>\n",
              "      <th>lat</th>\n",
              "      <th>long</th>\n",
              "    </tr>\n",
              "  </thead>\n",
              "  <tbody>\n",
              "    <tr>\n",
              "      <th>0</th>\n",
              "      <td>7129300520</td>\n",
              "      <td>47.5112</td>\n",
              "      <td>-122.257</td>\n",
              "    </tr>\n",
              "    <tr>\n",
              "      <th>1</th>\n",
              "      <td>6414100192</td>\n",
              "      <td>47.7210</td>\n",
              "      <td>-122.319</td>\n",
              "    </tr>\n",
              "    <tr>\n",
              "      <th>2</th>\n",
              "      <td>5631500400</td>\n",
              "      <td>47.7379</td>\n",
              "      <td>-122.233</td>\n",
              "    </tr>\n",
              "    <tr>\n",
              "      <th>3</th>\n",
              "      <td>2487200875</td>\n",
              "      <td>47.5208</td>\n",
              "      <td>-122.393</td>\n",
              "    </tr>\n",
              "    <tr>\n",
              "      <th>4</th>\n",
              "      <td>1954400510</td>\n",
              "      <td>47.6168</td>\n",
              "      <td>-122.045</td>\n",
              "    </tr>\n",
              "    <tr>\n",
              "      <th>...</th>\n",
              "      <td>...</td>\n",
              "      <td>...</td>\n",
              "      <td>...</td>\n",
              "    </tr>\n",
              "    <tr>\n",
              "      <th>21592</th>\n",
              "      <td>263000018</td>\n",
              "      <td>47.6993</td>\n",
              "      <td>-122.346</td>\n",
              "    </tr>\n",
              "    <tr>\n",
              "      <th>21593</th>\n",
              "      <td>6600060120</td>\n",
              "      <td>47.5107</td>\n",
              "      <td>-122.362</td>\n",
              "    </tr>\n",
              "    <tr>\n",
              "      <th>21594</th>\n",
              "      <td>1523300141</td>\n",
              "      <td>47.5944</td>\n",
              "      <td>-122.299</td>\n",
              "    </tr>\n",
              "    <tr>\n",
              "      <th>21595</th>\n",
              "      <td>291310100</td>\n",
              "      <td>47.5345</td>\n",
              "      <td>-122.069</td>\n",
              "    </tr>\n",
              "    <tr>\n",
              "      <th>21596</th>\n",
              "      <td>1523300157</td>\n",
              "      <td>47.5941</td>\n",
              "      <td>-122.299</td>\n",
              "    </tr>\n",
              "  </tbody>\n",
              "</table>\n",
              "<p>21597 rows × 3 columns</p>\n",
              "</div>"
            ],
            "text/plain": [
              "               id      lat     long\n",
              "0      7129300520  47.5112 -122.257\n",
              "1      6414100192  47.7210 -122.319\n",
              "2      5631500400  47.7379 -122.233\n",
              "3      2487200875  47.5208 -122.393\n",
              "4      1954400510  47.6168 -122.045\n",
              "...           ...      ...      ...\n",
              "21592   263000018  47.6993 -122.346\n",
              "21593  6600060120  47.5107 -122.362\n",
              "21594  1523300141  47.5944 -122.299\n",
              "21595   291310100  47.5345 -122.069\n",
              "21596  1523300157  47.5941 -122.299\n",
              "\n",
              "[21597 rows x 3 columns]"
            ]
          },
          "metadata": {
            "tags": []
          },
          "execution_count": 44
        }
      ]
    },
    {
      "cell_type": "markdown",
      "metadata": {
        "id": "_TfojefKyb9A"
      },
      "source": [
        "Kordinat verilerimizi liste haline getirelim."
      ]
    },
    {
      "cell_type": "code",
      "metadata": {
        "id": "zyxgP8s_yb9A",
        "outputId": "764ce7a1-547c-4052-cac2-20293a2faa2c"
      },
      "source": [
        "locations = loc[['lat','long']]\n",
        "locationlist = locations.values.tolist()\n",
        "len(locationlist)\n",
        "locationlist[7]"
      ],
      "execution_count": null,
      "outputs": [
        {
          "output_type": "execute_result",
          "data": {
            "text/plain": [
              "[47.4095, -122.315]"
            ]
          },
          "metadata": {
            "tags": []
          },
          "execution_count": 45
        }
      ]
    },
    {
      "cell_type": "markdown",
      "metadata": {
        "id": "SkUarcKVyb9A"
      },
      "source": [
        "Şimdi haritamızı oluşturup konutları işaretliyoruz.(İşaretleme uzun sürdüğü için işaretleme yapılan satırı beklemeyelim diye kaldırdım.)"
      ]
    },
    {
      "cell_type": "code",
      "metadata": {
        "id": "xCPNGpNPyb9A",
        "outputId": "a34be38b-5a62-4264-e8a7-aae76815c8bb"
      },
      "source": [
        "location = loc['lat'].mean(),loc['long'].mean()\n",
        "m = folium.Map(location=location,zoom_start=12)\n",
        "#for point in range(0, len(locationlist)):\n",
        " #   folium.Marker(locationlist[point], popup=loc['id'][point]).add_to(m)\n",
        "m"
      ],
      "execution_count": null,
      "outputs": [
        {
          "output_type": "execute_result",
          "data": {
            "text/html": [
              "<div style=\"width:100%;\"><div style=\"position:relative;width:100%;height:0;padding-bottom:60%;\"><span style=\"color:#565656\">Make this Notebook Trusted to load map: File -> Trust Notebook</span><iframe src=\"about:blank\" style=\"position:absolute;width:100%;height:100%;left:0;top:0;border:none !important;\" data-html=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 onload=\"this.contentDocument.open();this.contentDocument.write(atob(this.getAttribute('data-html')));this.contentDocument.close();\" allowfullscreen webkitallowfullscreen mozallowfullscreen></iframe></div></div>"
            ],
            "text/plain": [
              "<folium.folium.Map at 0x217736e888>"
            ]
          },
          "metadata": {
            "tags": []
          },
          "execution_count": 46
        }
      ]
    }
  ]
}